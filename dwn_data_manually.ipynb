{
 "cells": [
  {
   "cell_type": "markdown",
   "id": "73de9ce7-fd72-4af0-a007-63420d3561c5",
   "metadata": {},
   "source": [
    "# Download Data manually\n",
    "To avoid using app (with sometimes unstable GUI)\n",
    "Here the same functionality as notebook"
   ]
  },
  {
   "cell_type": "code",
   "execution_count": 1,
   "id": "a67f1d94-3442-44a5-83e9-fd24bb290f51",
   "metadata": {},
   "outputs": [],
   "source": [
    "import matplotlib.pyplot as plt\n",
    "import datetime\n",
    "from visualize_data import Analyze_WD\n",
    "import pandas as pd\n",
    "from load_data import SummaryData, WeatherData2"
   ]
  },
  {
   "cell_type": "markdown",
   "id": "73d7ab3a-50e1-4011-b233-dc30058587ec",
   "metadata": {},
   "source": [
    "# Download specific day\n",
    "To test that functionality"
   ]
  },
  {
   "cell_type": "code",
   "execution_count": 3,
   "id": "f34cba14-4c00-4ca5-9c7a-5b4ae3ca88a0",
   "metadata": {},
   "outputs": [
    {
     "name": "stdout",
     "output_type": "stream",
     "text": [
      "Downloading: Year: 2020 Month: 7 Day: 3 \n",
      "Downloading Weather data from https://www.wunderground.com/dashboard/pws/IDRSING3/table/2020-07-03/2020-07-03/daily\n",
      "Saving 0 rows\n"
     ]
    }
   ],
   "source": [
    "wd = WeatherData2()\n",
    "wd.output = True\n",
    "\n",
    "df = wd.download_data_day(11, 11, 2020)"
   ]
  },
  {
   "cell_type": "markdown",
   "id": "f7768bfa-7d02-4b75-b917-6a60317263a8",
   "metadata": {},
   "source": [
    "# Download specific month\n",
    "To test that functionality"
   ]
  },
  {
   "cell_type": "code",
   "execution_count": 2,
   "id": "c1e0e7fa-d93b-41f3-8a56-b2691c58a271",
   "metadata": {},
   "outputs": [
    {
     "name": "stdout",
     "output_type": "stream",
     "text": [
      "Downloading Year: 2020 Month: 11\n",
      "Downloading: Year: 2020 Month: 11 Day: 1 \n",
      "Downloading Weather data from https://www.wunderground.com/dashboard/pws/IDRSING3/table/2020-11-01/2020-11-01/daily\n",
      "Saving 0 rows\n",
      "Downloading: Year: 2020 Month: 11 Day: 2 \n",
      "Downloading Weather data from https://www.wunderground.com/dashboard/pws/IDRSING3/table/2020-11-02/2020-11-02/daily\n",
      "Saving 0 rows\n",
      "Downloading: Year: 2020 Month: 11 Day: 3 \n",
      "Downloading Weather data from https://www.wunderground.com/dashboard/pws/IDRSING3/table/2020-11-03/2020-11-03/daily\n",
      "Saving 0 rows\n",
      "Downloading: Year: 2020 Month: 11 Day: 4 \n",
      "Downloading Weather data from https://www.wunderground.com/dashboard/pws/IDRSING3/table/2020-11-04/2020-11-04/daily\n",
      "Saving 0 rows\n",
      "Downloading: Year: 2020 Month: 11 Day: 5 \n",
      "Downloading Weather data from https://www.wunderground.com/dashboard/pws/IDRSING3/table/2020-11-05/2020-11-05/daily\n",
      "Saving 0 rows\n",
      "Downloading: Year: 2020 Month: 11 Day: 6 \n",
      "Downloading Weather data from https://www.wunderground.com/dashboard/pws/IDRSING3/table/2020-11-06/2020-11-06/daily\n",
      "Saving 0 rows\n",
      "Downloading: Year: 2020 Month: 11 Day: 7 \n",
      "Downloading Weather data from https://www.wunderground.com/dashboard/pws/IDRSING3/table/2020-11-07/2020-11-07/daily\n",
      "Saving 0 rows\n",
      "Downloading: Year: 2020 Month: 11 Day: 8 \n",
      "Downloading Weather data from https://www.wunderground.com/dashboard/pws/IDRSING3/table/2020-11-08/2020-11-08/daily\n",
      "Saving 0 rows\n",
      "Downloading: Year: 2020 Month: 11 Day: 9 \n",
      "Downloading Weather data from https://www.wunderground.com/dashboard/pws/IDRSING3/table/2020-11-09/2020-11-09/daily\n",
      "Saving 0 rows\n",
      "Downloading: Year: 2020 Month: 11 Day: 10 \n",
      "Downloading Weather data from https://www.wunderground.com/dashboard/pws/IDRSING3/table/2020-11-10/2020-11-10/daily\n",
      "Saving 0 rows\n",
      "Downloading: Year: 2020 Month: 11 Day: 11 \n",
      "Downloading Weather data from https://www.wunderground.com/dashboard/pws/IDRSING3/table/2020-11-11/2020-11-11/daily\n",
      "Saving 0 rows\n",
      "Downloading: Year: 2020 Month: 11 Day: 12 \n",
      "Downloading Weather data from https://www.wunderground.com/dashboard/pws/IDRSING3/table/2020-11-12/2020-11-12/daily\n",
      "Saving 0 rows\n",
      "Downloading: Year: 2020 Month: 11 Day: 13 \n",
      "Downloading Weather data from https://www.wunderground.com/dashboard/pws/IDRSING3/table/2020-11-13/2020-11-13/daily\n",
      "Saving 0 rows\n",
      "Downloading: Year: 2020 Month: 11 Day: 14 \n",
      "Downloading Weather data from https://www.wunderground.com/dashboard/pws/IDRSING3/table/2020-11-14/2020-11-14/daily\n",
      "Saving 0 rows\n",
      "Downloading: Year: 2020 Month: 11 Day: 15 \n",
      "Downloading Weather data from https://www.wunderground.com/dashboard/pws/IDRSING3/table/2020-11-15/2020-11-15/daily\n",
      "Saving 0 rows\n",
      "Downloading: Year: 2020 Month: 11 Day: 16 \n",
      "Downloading Weather data from https://www.wunderground.com/dashboard/pws/IDRSING3/table/2020-11-16/2020-11-16/daily\n",
      "Saving 0 rows\n",
      "Downloading: Year: 2020 Month: 11 Day: 17 \n",
      "Downloading Weather data from https://www.wunderground.com/dashboard/pws/IDRSING3/table/2020-11-17/2020-11-17/daily\n",
      "Saving 0 rows\n",
      "Downloading: Year: 2020 Month: 11 Day: 18 \n",
      "Downloading Weather data from https://www.wunderground.com/dashboard/pws/IDRSING3/table/2020-11-18/2020-11-18/daily\n",
      "Saving 0 rows\n",
      "Downloading: Year: 2020 Month: 11 Day: 19 \n",
      "Downloading Weather data from https://www.wunderground.com/dashboard/pws/IDRSING3/table/2020-11-19/2020-11-19/daily\n",
      "Saving 0 rows\n",
      "Downloading: Year: 2020 Month: 11 Day: 20 \n",
      "Downloading Weather data from https://www.wunderground.com/dashboard/pws/IDRSING3/table/2020-11-20/2020-11-20/daily\n",
      "Saving 0 rows\n",
      "Downloading: Year: 2020 Month: 11 Day: 21 \n",
      "Downloading Weather data from https://www.wunderground.com/dashboard/pws/IDRSING3/table/2020-11-21/2020-11-21/daily\n",
      "Saving 0 rows\n",
      "Downloading: Year: 2020 Month: 11 Day: 22 \n",
      "Downloading Weather data from https://www.wunderground.com/dashboard/pws/IDRSING3/table/2020-11-22/2020-11-22/daily\n",
      "Saving 0 rows\n",
      "Downloading: Year: 2020 Month: 11 Day: 23 \n",
      "Downloading Weather data from https://www.wunderground.com/dashboard/pws/IDRSING3/table/2020-11-23/2020-11-23/daily\n",
      "Saving 0 rows\n",
      "Downloading: Year: 2020 Month: 11 Day: 24 \n",
      "Downloading Weather data from https://www.wunderground.com/dashboard/pws/IDRSING3/table/2020-11-24/2020-11-24/daily\n",
      "Saving 0 rows\n",
      "Downloading: Year: 2020 Month: 11 Day: 25 \n",
      "Downloading Weather data from https://www.wunderground.com/dashboard/pws/IDRSING3/table/2020-11-25/2020-11-25/daily\n",
      "Saving 0 rows\n",
      "Downloading: Year: 2020 Month: 11 Day: 26 \n",
      "Downloading Weather data from https://www.wunderground.com/dashboard/pws/IDRSING3/table/2020-11-26/2020-11-26/daily\n",
      "Saving 0 rows\n",
      "Downloading: Year: 2020 Month: 11 Day: 27 \n",
      "Downloading Weather data from https://www.wunderground.com/dashboard/pws/IDRSING3/table/2020-11-27/2020-11-27/daily\n",
      "Saving 0 rows\n",
      "Downloading: Year: 2020 Month: 11 Day: 28 \n",
      "Downloading Weather data from https://www.wunderground.com/dashboard/pws/IDRSING3/table/2020-11-28/2020-11-28/daily\n",
      "Saving 0 rows\n",
      "Downloading: Year: 2020 Month: 11 Day: 29 \n",
      "Downloading Weather data from https://www.wunderground.com/dashboard/pws/IDRSING3/table/2020-11-29/2020-11-29/daily\n",
      "Saving 0 rows\n",
      "Downloading: Year: 2020 Month: 11 Day: 30 \n",
      "Downloading Weather data from https://www.wunderground.com/dashboard/pws/IDRSING3/table/2020-11-30/2020-11-30/daily\n",
      "Saving 0 rows\n",
      "Successfully saved data to: ./Data/2020/11.csv\n"
     ]
    }
   ],
   "source": [
    "month = datetime.date(year=2020, month=11, day=1)\n",
    "\n",
    "wd = WeatherData2()\n",
    "wd.output = True\n",
    "wd.local_save_month(month)"
   ]
  },
  {
   "cell_type": "markdown",
   "id": "0c9957bc-621e-4812-82d0-d46942fbaf0c",
   "metadata": {},
   "source": [
    "# Download since last update\n",
    "This code is production code - the end date will get updated!"
   ]
  },
  {
   "cell_type": "code",
   "execution_count": 3,
   "id": "0cfb14ba-d14a-4e14-a964-a84dff317c17",
   "metadata": {},
   "outputs": [],
   "source": [
    "wd = WeatherData2()"
   ]
  },
  {
   "cell_type": "code",
   "execution_count": 5,
   "id": "9c142945-7ad0-4bbb-bd6c-41043b296bfc",
   "metadata": {},
   "outputs": [
    {
     "name": "stdout",
     "output_type": "stream",
     "text": [
      "Loading last Save Date. Year: 2021 Month: 9\n",
      "Download starting from:\n",
      "2021-09-01 00:00:00\n",
      "Downloading Year: 2021 Month: 9\n",
      "Downloading: Year: 2021 Month: 9 Day: 1 \n",
      "Saving 288 rows\n",
      "Downloading: Year: 2021 Month: 9 Day: 2 \n",
      "Saving 288 rows\n",
      "Downloading: Year: 2021 Month: 9 Day: 3 \n",
      "Saving 288 rows\n",
      "Downloading: Year: 2021 Month: 9 Day: 4 \n",
      "Saving 287 rows\n",
      "Downloading: Year: 2021 Month: 9 Day: 5 \n",
      "Saving 288 rows\n",
      "Downloading: Year: 2021 Month: 9 Day: 6 \n",
      "Saving 288 rows\n",
      "Downloading: Year: 2021 Month: 9 Day: 7 \n",
      "Saving 288 rows\n",
      "Downloading: Year: 2021 Month: 9 Day: 8 \n",
      "Saving 287 rows\n",
      "Downloading: Year: 2021 Month: 9 Day: 9 \n",
      "Saving 288 rows\n",
      "Downloading: Year: 2021 Month: 9 Day: 10 \n",
      "Saving 288 rows\n",
      "Downloading: Year: 2021 Month: 9 Day: 11 \n",
      "Saving 287 rows\n",
      "Downloading: Year: 2021 Month: 9 Day: 12 \n",
      "Saving 288 rows\n",
      "Downloading: Year: 2021 Month: 9 Day: 13 \n",
      "Saving 288 rows\n",
      "Downloading: Year: 2021 Month: 9 Day: 14 \n",
      "Saving 287 rows\n",
      "Downloading: Year: 2021 Month: 9 Day: 15 \n",
      "Saving 288 rows\n",
      "Downloading: Year: 2021 Month: 9 Day: 16 \n",
      "Saving 288 rows\n",
      "Downloading: Year: 2021 Month: 9 Day: 17 \n",
      "Saving 288 rows\n",
      "Downloading: Year: 2021 Month: 9 Day: 18 \n",
      "Saving 288 rows\n",
      "Downloading: Year: 2021 Month: 9 Day: 19 \n",
      "Saving 288 rows\n",
      "Downloading: Year: 2021 Month: 9 Day: 20 \n",
      "Saving 288 rows\n",
      "Downloading: Year: 2021 Month: 9 Day: 21 \n",
      "Saving 288 rows\n",
      "Downloading: Year: 2021 Month: 9 Day: 22 \n",
      "Saving 288 rows\n",
      "Downloading: Year: 2021 Month: 9 Day: 23 \n",
      "Saving 288 rows\n",
      "Downloading: Year: 2021 Month: 9 Day: 24 \n",
      "Saving 288 rows\n",
      "Downloading: Year: 2021 Month: 9 Day: 25 \n",
      "Saving 288 rows\n",
      "Downloading: Year: 2021 Month: 9 Day: 26 \n",
      "Saving 288 rows\n",
      "Downloading: Year: 2021 Month: 9 Day: 27 \n",
      "Saving 288 rows\n",
      "Downloading: Year: 2021 Month: 9 Day: 28 \n",
      "Saving 288 rows\n",
      "Downloading: Year: 2021 Month: 9 Day: 29 \n",
      "Saving 288 rows\n",
      "Downloading: Year: 2021 Month: 9 Day: 30 \n",
      "Saving 288 rows\n",
      "Successfully saved data to: ./Data/2021/9.csv\n",
      "Saving New Last Date. Year: 2021 Month: 9\n",
      "Downloading Year: 2021 Month: 10\n",
      "Downloading: Year: 2021 Month: 10 Day: 1 \n",
      "Saving 288 rows\n",
      "Downloading: Year: 2021 Month: 10 Day: 2 \n",
      "Saving 288 rows\n",
      "Downloading: Year: 2021 Month: 10 Day: 3 \n",
      "Saving 288 rows\n",
      "Downloading: Year: 2021 Month: 10 Day: 4 \n",
      "Saving 287 rows\n",
      "Downloading: Year: 2021 Month: 10 Day: 5 \n",
      "Saving 288 rows\n",
      "Downloading: Year: 2021 Month: 10 Day: 6 \n",
      "Saving 288 rows\n",
      "Downloading: Year: 2021 Month: 10 Day: 7 \n",
      "Saving 288 rows\n",
      "Downloading: Year: 2021 Month: 10 Day: 8 \n",
      "Saving 288 rows\n",
      "Downloading: Year: 2021 Month: 10 Day: 9 \n",
      "Saving 288 rows\n",
      "Downloading: Year: 2021 Month: 10 Day: 10 \n",
      "Saving 288 rows\n",
      "Downloading: Year: 2021 Month: 10 Day: 11 \n",
      "Saving 288 rows\n",
      "Downloading: Year: 2021 Month: 10 Day: 12 \n",
      "Saving 288 rows\n",
      "Downloading: Year: 2021 Month: 10 Day: 13 \n",
      "Saving 288 rows\n",
      "Downloading: Year: 2021 Month: 10 Day: 14 \n",
      "Saving 288 rows\n",
      "Downloading: Year: 2021 Month: 10 Day: 15 \n",
      "Saving 288 rows\n",
      "Downloading: Year: 2021 Month: 10 Day: 16 \n",
      "Saving 288 rows\n",
      "Downloading: Year: 2021 Month: 10 Day: 17 \n",
      "Saving 288 rows\n",
      "Downloading: Year: 2021 Month: 10 Day: 18 \n",
      "Saving 288 rows\n",
      "Downloading: Year: 2021 Month: 10 Day: 19 \n",
      "Saving 288 rows\n",
      "Downloading: Year: 2021 Month: 10 Day: 20 \n",
      "Saving 288 rows\n",
      "Downloading: Year: 2021 Month: 10 Day: 21 \n",
      "Saving 288 rows\n",
      "Downloading: Year: 2021 Month: 10 Day: 22 \n",
      "Saving 288 rows\n",
      "Downloading: Year: 2021 Month: 10 Day: 23 \n",
      "Saving 288 rows\n",
      "Downloading: Year: 2021 Month: 10 Day: 24 \n",
      "Saving 288 rows\n",
      "Downloading: Year: 2021 Month: 10 Day: 25 \n",
      "Saving 288 rows\n",
      "Downloading: Year: 2021 Month: 10 Day: 26 \n",
      "Saving 288 rows\n",
      "Downloading: Year: 2021 Month: 10 Day: 27 \n",
      "Saving 288 rows\n",
      "Downloading: Year: 2021 Month: 10 Day: 28 \n",
      "Saving 288 rows\n",
      "Downloading: Year: 2021 Month: 10 Day: 29 \n",
      "Saving 288 rows\n",
      "Downloading: Year: 2021 Month: 10 Day: 30 \n",
      "Saving 287 rows\n",
      "Downloading: Year: 2021 Month: 10 Day: 31 \n",
      "Saving 299 rows\n"
     ]
    },
    {
     "ename": "AmbiguousTimeError",
     "evalue": "Cannot infer dst time from 2021-10-31 02:04:00, try using the 'ambiguous' argument",
     "output_type": "error",
     "traceback": [
      "\u001b[0;31m---------------------------------------------------------------------------\u001b[0m",
      "\u001b[0;31mAmbiguousTimeError\u001b[0m                        Traceback (most recent call last)",
      "File \u001b[0;32m<timed eval>:1\u001b[0m, in \u001b[0;36m<module>\u001b[0;34m\u001b[0m\n",
      "File \u001b[0;32m~/git/wunderground/load_data.py:186\u001b[0m, in \u001b[0;36mWeatherData.update_local\u001b[0;34m(self, end_date, all)\u001b[0m\n\u001b[1;32m    183\u001b[0m     \u001b[38;5;28mself\u001b[39m\u001b[38;5;241m.\u001b[39mgui\u001b[38;5;241m.\u001b[39mupdate_idletasks()\n\u001b[1;32m    185\u001b[0m \u001b[38;5;28;01mif\u001b[39;00m \u001b[38;5;28mall\u001b[39m \u001b[38;5;241m==\u001b[39m \u001b[38;5;241m0\u001b[39m:\n\u001b[0;32m--> 186\u001b[0m     \u001b[38;5;28;43mself\u001b[39;49m\u001b[38;5;241;43m.\u001b[39;49m\u001b[43msave_local\u001b[49m\u001b[43m(\u001b[49m\u001b[43mbegin_date\u001b[49m\u001b[43m,\u001b[49m\u001b[43m \u001b[49m\u001b[43mend_date\u001b[49m\u001b[43m,\u001b[49m\u001b[43m \u001b[49m\u001b[43mupdate_end_date\u001b[49m\u001b[38;5;241;43m=\u001b[39;49m\u001b[38;5;28;43;01mTrue\u001b[39;49;00m\u001b[43m)\u001b[49m\n\u001b[1;32m    188\u001b[0m     \u001b[38;5;66;03m### Break up into months - to save progress in end data\u001b[39;00m\n\u001b[1;32m    190\u001b[0m \u001b[38;5;28;01melif\u001b[39;00m \u001b[38;5;28mall\u001b[39m \u001b[38;5;241m==\u001b[39m \u001b[38;5;241m1\u001b[39m:\n",
      "File \u001b[0;32m~/git/wunderground/load_data.py:164\u001b[0m, in \u001b[0;36mWeatherData.save_local\u001b[0;34m(self, begin_date, end_date, update_end_date)\u001b[0m\n\u001b[1;32m    161\u001b[0m     end_date \u001b[38;5;241m=\u001b[39m datetime\u001b[38;5;241m.\u001b[39mdatetime\u001b[38;5;241m.\u001b[39mnow()\n\u001b[1;32m    163\u001b[0m \u001b[38;5;28;01mfor\u001b[39;00m dt \u001b[38;5;129;01min\u001b[39;00m rrule(MONTHLY, dtstart\u001b[38;5;241m=\u001b[39mbegin_date, until\u001b[38;5;241m=\u001b[39mend_date):\n\u001b[0;32m--> 164\u001b[0m     \u001b[38;5;28;43mself\u001b[39;49m\u001b[38;5;241;43m.\u001b[39;49m\u001b[43mlocal_save_month\u001b[49m\u001b[43m(\u001b[49m\u001b[43mdt\u001b[49m\u001b[43m)\u001b[49m\n\u001b[1;32m    166\u001b[0m     \u001b[38;5;28;01mif\u001b[39;00m update_end_date:\n\u001b[1;32m    167\u001b[0m         \u001b[38;5;66;03m#day_m=calendar.monthrange(dt.year, dt.month)[1]\u001b[39;00m\n\u001b[1;32m    168\u001b[0m         dt_e \u001b[38;5;241m=\u001b[39m datetime\u001b[38;5;241m.\u001b[39mdatetime(dt\u001b[38;5;241m.\u001b[39myear, dt\u001b[38;5;241m.\u001b[39mmonth, \u001b[38;5;241m1\u001b[39m) \u001b[38;5;66;03m# So that inc. month is no prob.\u001b[39;00m\n",
      "File \u001b[0;32m~/git/wunderground/load_data.py:206\u001b[0m, in \u001b[0;36mWeatherData.local_save_month\u001b[0;34m(self, date)\u001b[0m\n\u001b[1;32m    203\u001b[0m \u001b[38;5;28;01mif\u001b[39;00m \u001b[38;5;28mself\u001b[39m\u001b[38;5;241m.\u001b[39mgui:\n\u001b[1;32m    204\u001b[0m     \u001b[38;5;28mself\u001b[39m\u001b[38;5;241m.\u001b[39mgui\u001b[38;5;241m.\u001b[39mupdate_idletasks()\n\u001b[0;32m--> 206\u001b[0m df \u001b[38;5;241m=\u001b[39m \u001b[38;5;28;43mself\u001b[39;49m\u001b[38;5;241;43m.\u001b[39;49m\u001b[43mdownload_data_month\u001b[49m\u001b[43m(\u001b[49m\u001b[43mdate\u001b[49m\u001b[43m)\u001b[49m\n\u001b[1;32m    208\u001b[0m path \u001b[38;5;241m=\u001b[39m \u001b[38;5;28mself\u001b[39m\u001b[38;5;241m.\u001b[39mlocal_folder \u001b[38;5;241m+\u001b[39m \u001b[38;5;28mstr\u001b[39m(year) \u001b[38;5;241m+\u001b[39m \u001b[38;5;124m\"\u001b[39m\u001b[38;5;124m/\u001b[39m\u001b[38;5;124m\"\u001b[39m \u001b[38;5;241m+\u001b[39m \u001b[38;5;28mstr\u001b[39m(month) \u001b[38;5;241m+\u001b[39m \u001b[38;5;124m\"\u001b[39m\u001b[38;5;124m.csv\u001b[39m\u001b[38;5;124m\"\u001b[39m\n\u001b[1;32m    210\u001b[0m \u001b[38;5;66;03m# Create Directory if not existent\u001b[39;00m\n",
      "File \u001b[0;32m~/git/wunderground/load_data.py:734\u001b[0m, in \u001b[0;36mWeatherData2.download_data_month\u001b[0;34m(self, date)\u001b[0m\n\u001b[1;32m    732\u001b[0m dfs \u001b[38;5;241m=\u001b[39m []\n\u001b[1;32m    733\u001b[0m \u001b[38;5;28;01mfor\u001b[39;00m day \u001b[38;5;129;01min\u001b[39;00m \u001b[38;5;28mrange\u001b[39m(\u001b[38;5;241m1\u001b[39m, calendar\u001b[38;5;241m.\u001b[39mmonthrange(date\u001b[38;5;241m.\u001b[39myear, date\u001b[38;5;241m.\u001b[39mmonth)[\u001b[38;5;241m1\u001b[39m] \u001b[38;5;241m+\u001b[39m \u001b[38;5;241m1\u001b[39m):\n\u001b[0;32m--> 734\u001b[0m     df \u001b[38;5;241m=\u001b[39m \u001b[38;5;28;43mself\u001b[39;49m\u001b[38;5;241;43m.\u001b[39;49m\u001b[43mdownload_data_day\u001b[49m\u001b[43m(\u001b[49m\u001b[43mday\u001b[49m\u001b[43m,\u001b[49m\u001b[43m \u001b[49m\u001b[43mdate\u001b[49m\u001b[38;5;241;43m.\u001b[39;49m\u001b[43mmonth\u001b[49m\u001b[43m,\u001b[49m\u001b[43m \u001b[49m\u001b[43mdate\u001b[49m\u001b[38;5;241;43m.\u001b[39;49m\u001b[43myear\u001b[49m\u001b[43m)\u001b[49m\n\u001b[1;32m    735\u001b[0m     \u001b[38;5;66;03m#if len(df) != 0:  # Removed as now correct empty dfs!\u001b[39;00m\n\u001b[1;32m    736\u001b[0m     dfs\u001b[38;5;241m.\u001b[39mappend(df)\n",
      "File \u001b[0;32m~/git/wunderground/load_data.py:721\u001b[0m, in \u001b[0;36mWeatherData2.download_data_day\u001b[0;34m(self, day, month, year, station)\u001b[0m\n\u001b[1;32m    716\u001b[0m df \u001b[38;5;241m=\u001b[39m \u001b[38;5;28mself\u001b[39m\u001b[38;5;241m.\u001b[39mscrap_station(weather_station_url\u001b[38;5;241m=\u001b[39m\u001b[38;5;28mself\u001b[39m\u001b[38;5;241m.\u001b[39mwunder_url, station_name\u001b[38;5;241m=\u001b[39mstation, \n\u001b[1;32m    717\u001b[0m                         unit_system\u001b[38;5;241m=\u001b[39m\u001b[38;5;28mself\u001b[39m\u001b[38;5;241m.\u001b[39munit_system, start_DATE\u001b[38;5;241m=\u001b[39mstart_date, end_DATE\u001b[38;5;241m=\u001b[39mstart_date, timeout \u001b[38;5;241m=\u001b[39m \u001b[38;5;241m100\u001b[39m, \n\u001b[1;32m    718\u001b[0m                         savepath\u001b[38;5;241m=\u001b[39m\u001b[38;5;124m\"\u001b[39m\u001b[38;5;124m\"\u001b[39m, output\u001b[38;5;241m=\u001b[39m\u001b[38;5;28mself\u001b[39m\u001b[38;5;241m.\u001b[39moutput)\n\u001b[1;32m    719\u001b[0m \u001b[38;5;66;03m# df can potentially be empty...\u001b[39;00m\n\u001b[0;32m--> 721\u001b[0m df \u001b[38;5;241m=\u001b[39m \u001b[38;5;28;43mself\u001b[39;49m\u001b[38;5;241;43m.\u001b[39;49m\u001b[43mto_normed_df\u001b[49m\u001b[43m(\u001b[49m\u001b[43mdf\u001b[49m\u001b[43m)\u001b[49m \u001b[38;5;66;03m# Update Column Names\u001b[39;00m\n\u001b[1;32m    722\u001b[0m \u001b[38;5;28mself\u001b[39m\u001b[38;5;241m.\u001b[39mcheck_valid_wunder_df(df) \u001b[38;5;66;03m# Check whether valid Wunder Dataframe\u001b[39;00m\n\u001b[1;32m    724\u001b[0m \u001b[38;5;28;01mreturn\u001b[39;00m df\n",
      "File \u001b[0;32m~/git/wunderground/load_data.py:672\u001b[0m, in \u001b[0;36mWeatherData2.to_normed_df\u001b[0;34m(self, df)\u001b[0m\n\u001b[1;32m    670\u001b[0m \u001b[38;5;66;03m### Update data column as combo of date and time and insert as first column\u001b[39;00m\n\u001b[1;32m    671\u001b[0m date_column \u001b[38;5;241m=\u001b[39m  pd\u001b[38;5;241m.\u001b[39mto_datetime(df[\u001b[38;5;124m\"\u001b[39m\u001b[38;5;124mDate\u001b[39m\u001b[38;5;124m\"\u001b[39m]\u001b[38;5;241m.\u001b[39mstr\u001b[38;5;241m.\u001b[39mreplace(\u001b[38;5;124m\"\u001b[39m\u001b[38;5;124m/\u001b[39m\u001b[38;5;124m\"\u001b[39m,\u001b[38;5;124m\"\u001b[39m\u001b[38;5;124m-\u001b[39m\u001b[38;5;124m\"\u001b[39m) \u001b[38;5;241m+\u001b[39m \u001b[38;5;124m\"\u001b[39m\u001b[38;5;124m \u001b[39m\u001b[38;5;124m\"\u001b[39m \u001b[38;5;241m+\u001b[39m  df[\u001b[38;5;124m\"\u001b[39m\u001b[38;5;124mTime\u001b[39m\u001b[38;5;124m\"\u001b[39m])\n\u001b[0;32m--> 672\u001b[0m date_column \u001b[38;5;241m=\u001b[39m \u001b[43mdate_column\u001b[49m\u001b[38;5;241;43m.\u001b[39;49m\u001b[43mdt\u001b[49m\u001b[38;5;241;43m.\u001b[39;49m\u001b[43mtz_localize\u001b[49m\u001b[43m(\u001b[49m\u001b[38;5;28;43mself\u001b[39;49m\u001b[38;5;241;43m.\u001b[39;49m\u001b[43mtimezone\u001b[49m\u001b[43m)\u001b[49m\u001b[38;5;241m.\u001b[39mdt\u001b[38;5;241m.\u001b[39mtz_convert(\u001b[38;5;124m\"\u001b[39m\u001b[38;5;124mUTC\u001b[39m\u001b[38;5;124m\"\u001b[39m)    \u001b[38;5;66;03m# To Save in UTC    \u001b[39;00m\n\u001b[1;32m    673\u001b[0m df_new\u001b[38;5;241m.\u001b[39minsert(\u001b[38;5;241m0\u001b[39m, \u001b[38;5;124m'\u001b[39m\u001b[38;5;124mdate\u001b[39m\u001b[38;5;124m'\u001b[39m, date_column)\n\u001b[1;32m    675\u001b[0m \u001b[38;5;28;01mreturn\u001b[39;00m df_new\n",
      "File \u001b[0;32m~/.local/lib/python3.10/site-packages/pandas/core/accessor.py:94\u001b[0m, in \u001b[0;36mPandasDelegate._add_delegate_accessors.<locals>._create_delegator_method.<locals>.f\u001b[0;34m(self, *args, **kwargs)\u001b[0m\n\u001b[1;32m     93\u001b[0m \u001b[38;5;28;01mdef\u001b[39;00m \u001b[38;5;21mf\u001b[39m(\u001b[38;5;28mself\u001b[39m, \u001b[38;5;241m*\u001b[39margs, \u001b[38;5;241m*\u001b[39m\u001b[38;5;241m*\u001b[39mkwargs):\n\u001b[0;32m---> 94\u001b[0m     \u001b[38;5;28;01mreturn\u001b[39;00m \u001b[38;5;28;43mself\u001b[39;49m\u001b[38;5;241;43m.\u001b[39;49m\u001b[43m_delegate_method\u001b[49m\u001b[43m(\u001b[49m\u001b[43mname\u001b[49m\u001b[43m,\u001b[49m\u001b[43m \u001b[49m\u001b[38;5;241;43m*\u001b[39;49m\u001b[43margs\u001b[49m\u001b[43m,\u001b[49m\u001b[43m \u001b[49m\u001b[38;5;241;43m*\u001b[39;49m\u001b[38;5;241;43m*\u001b[39;49m\u001b[43mkwargs\u001b[49m\u001b[43m)\u001b[49m\n",
      "File \u001b[0;32m~/.local/lib/python3.10/site-packages/pandas/core/indexes/accessors.py:123\u001b[0m, in \u001b[0;36mProperties._delegate_method\u001b[0;34m(self, name, *args, **kwargs)\u001b[0m\n\u001b[1;32m    120\u001b[0m values \u001b[38;5;241m=\u001b[39m \u001b[38;5;28mself\u001b[39m\u001b[38;5;241m.\u001b[39m_get_values()\n\u001b[1;32m    122\u001b[0m method \u001b[38;5;241m=\u001b[39m \u001b[38;5;28mgetattr\u001b[39m(values, name)\n\u001b[0;32m--> 123\u001b[0m result \u001b[38;5;241m=\u001b[39m \u001b[43mmethod\u001b[49m\u001b[43m(\u001b[49m\u001b[38;5;241;43m*\u001b[39;49m\u001b[43margs\u001b[49m\u001b[43m,\u001b[49m\u001b[43m \u001b[49m\u001b[38;5;241;43m*\u001b[39;49m\u001b[38;5;241;43m*\u001b[39;49m\u001b[43mkwargs\u001b[49m\u001b[43m)\u001b[49m\n\u001b[1;32m    125\u001b[0m \u001b[38;5;28;01mif\u001b[39;00m \u001b[38;5;129;01mnot\u001b[39;00m is_list_like(result):\n\u001b[1;32m    126\u001b[0m     \u001b[38;5;28;01mreturn\u001b[39;00m result\n",
      "File \u001b[0;32m~/.local/lib/python3.10/site-packages/pandas/core/indexes/datetimes.py:273\u001b[0m, in \u001b[0;36mDatetimeIndex.tz_localize\u001b[0;34m(self, tz, ambiguous, nonexistent)\u001b[0m\n\u001b[1;32m    271\u001b[0m \u001b[38;5;129m@doc\u001b[39m(DatetimeArray\u001b[38;5;241m.\u001b[39mtz_localize)\n\u001b[1;32m    272\u001b[0m \u001b[38;5;28;01mdef\u001b[39;00m \u001b[38;5;21mtz_localize\u001b[39m(\u001b[38;5;28mself\u001b[39m, tz, ambiguous\u001b[38;5;241m=\u001b[39m\u001b[38;5;124m\"\u001b[39m\u001b[38;5;124mraise\u001b[39m\u001b[38;5;124m\"\u001b[39m, nonexistent\u001b[38;5;241m=\u001b[39m\u001b[38;5;124m\"\u001b[39m\u001b[38;5;124mraise\u001b[39m\u001b[38;5;124m\"\u001b[39m) \u001b[38;5;241m-\u001b[39m\u001b[38;5;241m>\u001b[39m DatetimeIndex:\n\u001b[0;32m--> 273\u001b[0m     arr \u001b[38;5;241m=\u001b[39m \u001b[38;5;28;43mself\u001b[39;49m\u001b[38;5;241;43m.\u001b[39;49m\u001b[43m_data\u001b[49m\u001b[38;5;241;43m.\u001b[39;49m\u001b[43mtz_localize\u001b[49m\u001b[43m(\u001b[49m\u001b[43mtz\u001b[49m\u001b[43m,\u001b[49m\u001b[43m \u001b[49m\u001b[43mambiguous\u001b[49m\u001b[43m,\u001b[49m\u001b[43m \u001b[49m\u001b[43mnonexistent\u001b[49m\u001b[43m)\u001b[49m\n\u001b[1;32m    274\u001b[0m     \u001b[38;5;28;01mreturn\u001b[39;00m \u001b[38;5;28mtype\u001b[39m(\u001b[38;5;28mself\u001b[39m)\u001b[38;5;241m.\u001b[39m_simple_new(arr, name\u001b[38;5;241m=\u001b[39m\u001b[38;5;28mself\u001b[39m\u001b[38;5;241m.\u001b[39mname)\n",
      "File \u001b[0;32m~/.local/lib/python3.10/site-packages/pandas/core/arrays/_mixins.py:84\u001b[0m, in \u001b[0;36mravel_compat.<locals>.method\u001b[0;34m(self, *args, **kwargs)\u001b[0m\n\u001b[1;32m     81\u001b[0m \u001b[38;5;129m@wraps\u001b[39m(meth)\n\u001b[1;32m     82\u001b[0m \u001b[38;5;28;01mdef\u001b[39;00m \u001b[38;5;21mmethod\u001b[39m(\u001b[38;5;28mself\u001b[39m, \u001b[38;5;241m*\u001b[39margs, \u001b[38;5;241m*\u001b[39m\u001b[38;5;241m*\u001b[39mkwargs):\n\u001b[1;32m     83\u001b[0m     \u001b[38;5;28;01mif\u001b[39;00m \u001b[38;5;28mself\u001b[39m\u001b[38;5;241m.\u001b[39mndim \u001b[38;5;241m==\u001b[39m \u001b[38;5;241m1\u001b[39m:\n\u001b[0;32m---> 84\u001b[0m         \u001b[38;5;28;01mreturn\u001b[39;00m \u001b[43mmeth\u001b[49m\u001b[43m(\u001b[49m\u001b[38;5;28;43mself\u001b[39;49m\u001b[43m,\u001b[49m\u001b[43m \u001b[49m\u001b[38;5;241;43m*\u001b[39;49m\u001b[43margs\u001b[49m\u001b[43m,\u001b[49m\u001b[43m \u001b[49m\u001b[38;5;241;43m*\u001b[39;49m\u001b[38;5;241;43m*\u001b[39;49m\u001b[43mkwargs\u001b[49m\u001b[43m)\u001b[49m\n\u001b[1;32m     86\u001b[0m     flags \u001b[38;5;241m=\u001b[39m \u001b[38;5;28mself\u001b[39m\u001b[38;5;241m.\u001b[39m_ndarray\u001b[38;5;241m.\u001b[39mflags\n\u001b[1;32m     87\u001b[0m     flat \u001b[38;5;241m=\u001b[39m \u001b[38;5;28mself\u001b[39m\u001b[38;5;241m.\u001b[39mravel(\u001b[38;5;124m\"\u001b[39m\u001b[38;5;124mK\u001b[39m\u001b[38;5;124m\"\u001b[39m)\n",
      "File \u001b[0;32m~/.local/lib/python3.10/site-packages/pandas/core/arrays/datetimes.py:1043\u001b[0m, in \u001b[0;36mDatetimeArray.tz_localize\u001b[0;34m(self, tz, ambiguous, nonexistent)\u001b[0m\n\u001b[1;32m   1040\u001b[0m     tz \u001b[38;5;241m=\u001b[39m timezones\u001b[38;5;241m.\u001b[39mmaybe_get_tz(tz)\n\u001b[1;32m   1041\u001b[0m     \u001b[38;5;66;03m# Convert to UTC\u001b[39;00m\n\u001b[0;32m-> 1043\u001b[0m     new_dates \u001b[38;5;241m=\u001b[39m \u001b[43mtzconversion\u001b[49m\u001b[38;5;241;43m.\u001b[39;49m\u001b[43mtz_localize_to_utc\u001b[49m\u001b[43m(\u001b[49m\n\u001b[1;32m   1044\u001b[0m \u001b[43m        \u001b[49m\u001b[38;5;28;43mself\u001b[39;49m\u001b[38;5;241;43m.\u001b[39;49m\u001b[43masi8\u001b[49m\u001b[43m,\u001b[49m\u001b[43m \u001b[49m\u001b[43mtz\u001b[49m\u001b[43m,\u001b[49m\u001b[43m \u001b[49m\u001b[43mambiguous\u001b[49m\u001b[38;5;241;43m=\u001b[39;49m\u001b[43mambiguous\u001b[49m\u001b[43m,\u001b[49m\u001b[43m \u001b[49m\u001b[43mnonexistent\u001b[49m\u001b[38;5;241;43m=\u001b[39;49m\u001b[43mnonexistent\u001b[49m\n\u001b[1;32m   1045\u001b[0m \u001b[43m    \u001b[49m\u001b[43m)\u001b[49m\n\u001b[1;32m   1046\u001b[0m new_dates \u001b[38;5;241m=\u001b[39m new_dates\u001b[38;5;241m.\u001b[39mview(DT64NS_DTYPE)\n\u001b[1;32m   1047\u001b[0m dtype \u001b[38;5;241m=\u001b[39m tz_to_dtype(tz)\n",
      "File \u001b[0;32m~/.local/lib/python3.10/site-packages/pandas/_libs/tslibs/tzconversion.pyx:284\u001b[0m, in \u001b[0;36mpandas._libs.tslibs.tzconversion.tz_localize_to_utc\u001b[0;34m()\u001b[0m\n",
      "\u001b[0;31mAmbiguousTimeError\u001b[0m: Cannot infer dst time from 2021-10-31 02:04:00, try using the 'ambiguous' argument"
     ]
    }
   ],
   "source": [
    "%%time\n",
    "wd.update_local()"
   ]
  },
  {
   "cell_type": "markdown",
   "id": "9e65872b-da1c-49b8-9310-6434655b7101",
   "metadata": {},
   "source": [
    "# Manipulate last date of WD object"
   ]
  },
  {
   "cell_type": "code",
   "execution_count": 9,
   "id": "41836e3b-8467-4019-978a-89b11794e15a",
   "metadata": {},
   "outputs": [],
   "source": [
    "import pickle as pickle\n",
    "from datetime import date"
   ]
  },
  {
   "cell_type": "code",
   "execution_count": 11,
   "id": "3d3ed3e3-30e8-4377-8e5c-5f7f1fcf0150",
   "metadata": {},
   "outputs": [
    {
     "name": "stdout",
     "output_type": "stream",
     "text": [
      "Loading last Save Date. Year: 2021 Month: 1\n"
     ]
    },
    {
     "data": {
      "text/plain": [
       "datetime.date(2021, 1, 1)"
      ]
     },
     "execution_count": 11,
     "metadata": {},
     "output_type": "execute_result"
    }
   ],
   "source": [
    "dt = wd.load_last_date()  # Load the last time something was updated\n",
    "dt"
   ]
  },
  {
   "cell_type": "code",
   "execution_count": 10,
   "id": "da2f9231-c072-470a-924c-600a646beb89",
   "metadata": {},
   "outputs": [
    {
     "name": "stdout",
     "output_type": "stream",
     "text": [
      "Saving New Last Date. Year: 2021 Month: 1\n"
     ]
    }
   ],
   "source": [
    "wd = WeatherData2()\n",
    "dt = date(2021, 1, 1)\n",
    "wd.save_last_date(dt)"
   ]
  },
  {
   "cell_type": "code",
   "execution_count": null,
   "id": "17da333e-194a-4b02-ab22-19a36b0123d4",
   "metadata": {},
   "outputs": [],
   "source": []
  }
 ],
 "metadata": {
  "kernelspec": {
   "display_name": "Python 3 (ipykernel)",
   "language": "python",
   "name": "python3"
  },
  "language_info": {
   "codemirror_mode": {
    "name": "ipython",
    "version": 3
   },
   "file_extension": ".py",
   "mimetype": "text/x-python",
   "name": "python",
   "nbconvert_exporter": "python",
   "pygments_lexer": "ipython3",
   "version": "3.10.4"
  }
 },
 "nbformat": 4,
 "nbformat_minor": 5
}
