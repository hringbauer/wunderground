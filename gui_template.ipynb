{
 "cells": [
  {
   "cell_type": "markdown",
   "metadata": {
    "deletable": true,
    "editable": true
   },
   "source": [
    "## Template for GUI\n",
    "This is a Template for the GUI of my Program.\n",
    "(For Weather Underground)\n",
    "\n",
    "Make it a class, so it can be imported, and custom, complex\n",
    "methods can be implemented"
   ]
  },
  {
   "cell_type": "code",
   "execution_count": 3,
   "metadata": {
    "collapsed": true,
    "deletable": true,
    "editable": true
   },
   "outputs": [],
   "source": [
    "import Tkinter as tk\n",
    "import tkMessageBox as mb"
   ]
  },
  {
   "cell_type": "code",
   "execution_count": 4,
   "metadata": {
    "collapsed": true,
    "deletable": true,
    "editable": true
   },
   "outputs": [],
   "source": [
    "def test_command():\n",
    "    print(\"IT IS ALIVE\")"
   ]
  },
  {
   "cell_type": "code",
   "execution_count": 40,
   "metadata": {
    "collapsed": false,
    "deletable": true,
    "editable": true
   },
   "outputs": [],
   "source": [
    "class My_Gui(object):\n",
    "    '''Overall Class for my GUI Object'''\n",
    "    master = 0\n",
    "    menu = 0\n",
    "    sub_menus = [] # list of cascades\n",
    "    \n",
    "    status_bar =\"Nothing\"\n",
    "    \n",
    "    \n",
    "    def __init__(self, master):\n",
    "        '''Constructor'''\n",
    "        self.master = master       \n",
    "        self.menu = tk.Menu(self.master) # Creates the menu\n",
    "        self.master.config(menu=self.menu) # Adds the menu to the master\n",
    "        \n",
    "        # Create the toolbar:\n",
    "        self.status = tk.Label(self.master, text=\"Ready\", bd=1, relief=tk.SUNKEN, anchor=tk.W)\n",
    "        self.status.pack(side=tk.BOTTOM, fill=tk.X)\n",
    "        \n",
    "    def create_submenu(self, command_texts=[], commands=[], name=\"Menu 1\"):\n",
    "        '''Method to add a menu\n",
    "        command_texts: What to add\n",
    "        commands: What to do'''\n",
    "        subMenu = tk.Menu(self.menu)\n",
    "        self.menu.add_cascade(label=name, menu=subMenu)\n",
    "        subMenu.add_command(label=\"New Project...\", command=test_command)\n",
    "        subMenu.add_command(label=\"New...\", command=test_command)\n",
    "        subMenu.add_separator()  # Creates a Line\n",
    "        subMenu.add_command(label=\"Exit\", command=test_command)\n",
    "        \n",
    "        self.sub_menus.append(subMenu) # Adds to a submenu\n",
    "        return subMenu\n",
    "                \n",
    "        \n",
    "    def toolbar(self):\n",
    "        '''Method for the toolbar'''\n",
    "        print(\"To Implement\")"
   ]
  },
  {
   "cell_type": "code",
   "execution_count": 41,
   "metadata": {
    "collapsed": false,
    "deletable": true,
    "editable": true
   },
   "outputs": [
    {
     "name": "stdout",
     "output_type": "stream",
     "text": [
      "Finished!\n"
     ]
    }
   ],
   "source": [
    "root = tk.Tk() # The Root Window\n",
    "my_gui = My_Gui(root)\n",
    "my_gui.create_submenu(name=\"Menu 1\")  # Creates a Submenu\n",
    "my_gui.create_submenu(name=\"Menu 2\")\n",
    "root.mainloop()\n",
    "print(\"Finished!\")"
   ]
  },
  {
   "cell_type": "code",
   "execution_count": 27,
   "metadata": {
    "collapsed": false,
    "deletable": true,
    "editable": true
   },
   "outputs": [],
   "source": [
    "def doNothing():\n",
    "    print(\"lul\")\n",
    "    \n",
    "root = tk.Tk()\n",
    "\n",
    "menu = tk.Menu(root) # Creates the menu\n",
    "root.config(menu=menu)\n",
    "\n",
    "subMenu = tk.Menu(menu)\n",
    "menu.add_cascade(label=\"File\", menu=subMenu)\n",
    "subMenu.add_command(label=\"New Project...\", command=doNothing)\n",
    "subMenu.add_command(label=\"New...\", command=doNothing)\n",
    "subMenu.add_separator()  # Creates a Line\n",
    "subMenu.add_command(label=\"Exit\", command=doNothing)\n",
    "\n",
    "editMenu = tk.Menu(menu) # Create a 2nd Menu\n",
    "menu.add_cascade(label=\"Edit\", menu=editMenu)\n",
    "editMenu.add_command(label=\"Redo\", command=doNothing)\n",
    "\n",
    "root.mainloop()"
   ]
  },
  {
   "cell_type": "markdown",
   "metadata": {
    "collapsed": true,
    "deletable": true,
    "editable": true
   },
   "source": [
    "## This is the code to produce Output in the GUI Window"
   ]
  },
  {
   "cell_type": "code",
   "execution_count": null,
   "metadata": {
    "collapsed": true
   },
   "outputs": [],
   "source": [
    "import Tkinter as tk\n",
    "import sys\n",
    "\n",
    "class ExampleApp(tk.Tk):\n",
    "    def __init__(self):\n",
    "        tk.Tk.__init__(self)\n",
    "        toolbar = tk.Frame(self)\n",
    "        toolbar.pack(side=\"top\", fill=\"x\")\n",
    "        b1 = tk.Button(self, text=\"print to stdout\", command=self.print_stdout)\n",
    "        b2 = tk.Button(self, text=\"print to stderr\", command=self.print_stderr)\n",
    "        b1.pack(in_=toolbar, side=\"left\")\n",
    "        b2.pack(in_=toolbar, side=\"left\")\n",
    "        self.text = tk.Text(self, wrap=\"word\")\n",
    "        self.text.pack(side=\"top\", fill=\"both\", expand=True)\n",
    "        self.text.tag_configure(\"stderr\", foreground=\"#b22222\")\n",
    "\n",
    "        sys.stdout = TextRedirector(self.text, \"stdout\")\n",
    "        sys.stderr = TextRedirector(self.text, \"stderr\")\n",
    "\n",
    "    def print_stdout(self):\n",
    "        '''Illustrate that using 'print' writes to stdout'''\n",
    "        print \"this is stdout\"\n",
    "\n",
    "    def print_stderr(self):\n",
    "        '''Illustrate that we can write directly to stderr'''\n",
    "        sys.stderr.write(\"this is stderr\\n\")\n",
    "\n",
    "class TextRedirector(object):\n",
    "    def __init__(self, widget, tag=\"stdout\"):\n",
    "        self.widget = widget\n",
    "        self.tag = tag\n",
    "\n",
    "    def write(self, str):\n",
    "        self.widget.configure(state=\"normal\")\n",
    "        self.widget.insert(\"end\", str, (self.tag,))\n",
    "        self.widget.configure(state=\"disabled\")\n",
    "\n",
    "app = ExampleApp()\n",
    "app.mainloop()"
   ]
  },
  {
   "cell_type": "code",
   "execution_count": 7,
   "metadata": {
    "collapsed": false
   },
   "outputs": [
    {
     "name": "stdout",
     "output_type": "stream",
     "text": [
      "2\n",
      "5\n"
     ]
    }
   ],
   "source": [
    "from Tkinter import *\n",
    "import sys\n",
    "\n",
    "class popupWindow(object):\n",
    "    def __init__(self,master):\n",
    "        top=self.top=Toplevel(master)\n",
    "        self.l=Label(top,text=\"Hello World\")\n",
    "        self.l.pack()\n",
    "        self.e=Entry(top)\n",
    "        self.e.pack()\n",
    "        self.b=Button(top,text='Ok',command=self.cleanup)\n",
    "        self.b.pack()\n",
    "    def cleanup(self):\n",
    "        self.value=self.e.get()\n",
    "        self.top.destroy()\n",
    "\n",
    "class mainWindow(object):\n",
    "    def __init__(self,master):\n",
    "        self.master=master\n",
    "        self.b=Button(master,text=\"click me!\",command=self.popup)\n",
    "        self.b.pack()\n",
    "        self.b2=Button(master,text=\"print value\",command=lambda: sys.stdout.write(self.entryValue()+'\\n'))\n",
    "        self.b2.pack()\n",
    "\n",
    "    def popup(self):\n",
    "        self.w=popupWindow(self.master)\n",
    "        self.b[\"state\"] = \"disabled\" \n",
    "        self.master.wait_window(self.w.top)\n",
    "        self.b[\"state\"] = \"normal\"\n",
    "\n",
    "    def entryValue(self):\n",
    "        return self.w.value\n",
    "\n",
    "\n",
    "if __name__ == \"__main__\":\n",
    "    root=Tk()\n",
    "    m=mainWindow(root)\n",
    "    root.mainloop()"
   ]
  },
  {
   "cell_type": "code",
   "execution_count": 2,
   "metadata": {
    "collapsed": false
   },
   "outputs": [
    {
     "name": "stdout",
     "output_type": "stream",
     "text": [
      "test\n"
     ]
    }
   ],
   "source": [
    "print(\"test\")"
   ]
  },
  {
   "cell_type": "code",
   "execution_count": null,
   "metadata": {
    "collapsed": true
   },
   "outputs": [],
   "source": []
  }
 ],
 "metadata": {
  "kernelspec": {
   "display_name": "Python 2",
   "language": "python",
   "name": "python2"
  },
  "language_info": {
   "codemirror_mode": {
    "name": "ipython",
    "version": 2
   },
   "file_extension": ".py",
   "mimetype": "text/x-python",
   "name": "python",
   "nbconvert_exporter": "python",
   "pygments_lexer": "ipython2",
   "version": "2.7.12"
  }
 },
 "nbformat": 4,
 "nbformat_minor": 2
}
