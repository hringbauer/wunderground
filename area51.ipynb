{
 "cells": [
  {
   "cell_type": "markdown",
   "metadata": {},
   "source": [
    "# Area for testing Code"
   ]
  },
  {
   "cell_type": "markdown",
   "metadata": {},
   "source": [
    "### Try code loading weather from weather station\n",
    "This is updated code from a custom scraper"
   ]
  },
  {
   "cell_type": "code",
   "execution_count": 3,
   "metadata": {},
   "outputs": [],
   "source": [
    "import requests\n",
    "import csv\n",
    "import lxml.html as lh\n",
    "import datetime\n",
    "from datetime import date\n",
    "\n",
    "from util.UnitConverter import ConvertToSystem\n",
    "from util.Parser import Parser\n",
    "from util.Utils import Utils\n",
    "\n",
    "\n",
    "def scrap_station(weather_station_url=\"https://www.wunderground.com/dashboard/pws/IDRSING3\", \n",
    "                  unit_system=\"metric\", start_DATE=\"\", end_DATE=\"\", timeout = 5, savepath=\"\", output=True):\n",
    "    \"\"\"Get data from Weather Station. \n",
    "    Input: Parameters about station and start and end date\n",
    "    Return: Pandas Dataframe in format for Weather Station\"\"\"\n",
    "    \n",
    "    session = requests.Session()\n",
    "    \n",
    "    url_gen = Utils.date_url_generator(weather_station_url, start_DATE, end_DATE)\n",
    "    station_name = weather_station_url.split('/')[-1]\n",
    "    if len(savepath)==0:\n",
    "        savepath = f'{station_name}.csv'\n",
    "\n",
    "    with open(savepath, 'a+', newline='') as csvfile:\n",
    "        dfs = [] # Where the output will be saved to\n",
    "        for date_string, url in url_gen:\n",
    "            try:\n",
    "                if output:\n",
    "                    print(f'Downloading Weather data from {url}')\n",
    "                history_table = False\n",
    "                while not history_table:\n",
    "                    html_string = session.get(url, timeout=timeout)\n",
    "                    doc = lh.fromstring(html_string.content)\n",
    "                    history_table = doc.xpath('//*[@id=\"main-page-content\"]/div/div/div/lib-history/div[2]/lib-history-table/div/div/div/table/tbody')\n",
    "                    if not history_table:\n",
    "                        if output:\n",
    "                            print(\"Refreshing session.\")\n",
    "                        session = requests.Session()\n",
    "\n",
    "                data_rows = Parser.parse_html_table(date_string, history_table)\n",
    "\n",
    "                converter = ConvertToSystem(unit_system)\n",
    "                data_to_write = converter.clean_and_convert(data_rows)\n",
    "                dfs.append(pd.DataFrame(data_to_write))\n",
    "                    \n",
    "                print(f'Saving {len(data_to_write)} rows')\n",
    "            except Exception as e:\n",
    "                print(e)\n",
    "        df=pd.concat(dfs)\n",
    "        df[\"station\"] = station_name\n",
    "        return df\n",
    "    \n",
    "def to_normed_df(df):\n",
    "    \"\"\"Transform a scrapped wunderground dataframe to a normalized df\"\"\"  \n",
    "    \n",
    "    dct = {'Temperature': 'temp', 'Precip_Accum': 'total_rain', 'Precip_Rate': 'hour_rain',  'Humidity': 'humidity',\n",
    "           'Wind': 'wind_direction',  'Speed': 'wind',  'Speed': 'wind',  'Gust': 'wind_gust',\n",
    "            'Pressure': 'pressure',  'Solar': 'solar', 'Dew_Point': 'dewpoint'\n",
    "           }\n",
    "    df_new = df.rename(columns=dct)\n",
    "    \n",
    "    ### Update data column as combo of date and time\n",
    "    df_new[\"date\"] \t=  pd.to_datetime(df[\"Date\"].str.replace(\"/\",\"-\") + \" \" +  df[\"Time\"])\n",
    "    return df_new\n",
    "\n",
    "def check_valid_wunder_df(df):\n",
    "    \"\"\"Does a quick check whether dataframe is valid for \n",
    "    software here.\"\"\"\n",
    "    \n",
    "    cols = ['temp', 'hour_rain', 'total_rain', 'date', 'humidity',\n",
    "       'wind_direction', 'wind', 'wind_gust', 'pressure', 'solar', 'dewpoint',\n",
    "       'station']\n",
    "    columns = df.columns\n",
    "    \n",
    "    for c in cols:\n",
    "        if c not in columns:\n",
    "            raise RuntimeWarning(f\"Column {c} is missing\")"
   ]
  },
  {
   "cell_type": "code",
   "execution_count": null,
   "metadata": {},
   "outputs": [],
   "source": [
    "%%time\n",
    "### Test running the scrapper\n",
    "\n",
    "d1 = date(2017, 7, 1)\n",
    "d2 = date(2017, 7, 3)\n",
    "\n",
    "df = scrap_station(start_DATE=d1, end_DATE=d2)"
   ]
  },
  {
   "cell_type": "code",
   "execution_count": 46,
   "metadata": {},
   "outputs": [],
   "source": [
    "dft = to_normed_df(df)"
   ]
  },
  {
   "cell_type": "code",
   "execution_count": 47,
   "metadata": {},
   "outputs": [],
   "source": [
    "check_valid_wunder_df(dft)"
   ]
  },
  {
   "cell_type": "code",
   "execution_count": 57,
   "metadata": {},
   "outputs": [
    {
     "data": {
      "text/plain": [
       "datetime.date(2017, 8, 1)"
      ]
     },
     "execution_count": 57,
     "metadata": {},
     "output_type": "execute_result"
    }
   ],
   "source": [
    "d1 = date(2017, 7, 31)\n",
    "d1 + datetime.timedelta(days=1)"
   ]
  },
  {
   "cell_type": "code",
   "execution_count": null,
   "metadata": {},
   "outputs": [],
   "source": [
    "date = datetime.date(df[\"Date\"])\n",
    "time = datetime.time(df[\"Time\"])\n",
    "combined = datetime.datetime.combine(date, time)"
   ]
  },
  {
   "cell_type": "code",
   "execution_count": 65,
   "metadata": {},
   "outputs": [
    {
     "data": {
      "text/html": [
       "<div>\n",
       "<style scoped>\n",
       "    .dataframe tbody tr th:only-of-type {\n",
       "        vertical-align: middle;\n",
       "    }\n",
       "\n",
       "    .dataframe tbody tr th {\n",
       "        vertical-align: top;\n",
       "    }\n",
       "\n",
       "    .dataframe thead th {\n",
       "        text-align: right;\n",
       "    }\n",
       "</style>\n",
       "<table border=\"1\" class=\"dataframe\">\n",
       "  <thead>\n",
       "    <tr style=\"text-align: right;\">\n",
       "      <th></th>\n",
       "      <th>Date</th>\n",
       "      <th>Time</th>\n",
       "      <th>Temperature</th>\n",
       "      <th>Dew_Point</th>\n",
       "      <th>Humidity</th>\n",
       "      <th>Wind</th>\n",
       "      <th>Speed</th>\n",
       "      <th>Gust</th>\n",
       "      <th>Pressure</th>\n",
       "      <th>Precip_Rate</th>\n",
       "      <th>Precip_Accum</th>\n",
       "      <th>UV</th>\n",
       "      <th>Solar</th>\n",
       "      <th>station</th>\n",
       "    </tr>\n",
       "  </thead>\n",
       "  <tbody>\n",
       "    <tr>\n",
       "      <th>0</th>\n",
       "      <td>2017/07/01</td>\n",
       "      <td>02:03 AM</td>\n",
       "      <td>17.28</td>\n",
       "      <td>12.78</td>\n",
       "      <td>75.0</td>\n",
       "      <td>West</td>\n",
       "      <td>0.00</td>\n",
       "      <td>0.00</td>\n",
       "      <td>1008.81</td>\n",
       "      <td>0.0</td>\n",
       "      <td>0.0</td>\n",
       "      <td>0.0</td>\n",
       "      <td>0.0</td>\n",
       "      <td>IDRSING3</td>\n",
       "    </tr>\n",
       "    <tr>\n",
       "      <th>1</th>\n",
       "      <td>2017/07/01</td>\n",
       "      <td>02:08 AM</td>\n",
       "      <td>17.50</td>\n",
       "      <td>12.39</td>\n",
       "      <td>72.0</td>\n",
       "      <td>West</td>\n",
       "      <td>2.57</td>\n",
       "      <td>3.54</td>\n",
       "      <td>1009.14</td>\n",
       "      <td>0.0</td>\n",
       "      <td>0.0</td>\n",
       "      <td>0.0</td>\n",
       "      <td>0.0</td>\n",
       "      <td>IDRSING3</td>\n",
       "    </tr>\n",
       "  </tbody>\n",
       "</table>\n",
       "</div>"
      ],
      "text/plain": [
       "         Date      Time  Temperature  Dew_Point  Humidity  Wind  Speed  Gust  \\\n",
       "0  2017/07/01  02:03 AM        17.28      12.78      75.0  West   0.00  0.00   \n",
       "1  2017/07/01  02:08 AM        17.50      12.39      72.0  West   2.57  3.54   \n",
       "\n",
       "   Pressure  Precip_Rate  Precip_Accum   UV  Solar   station  \n",
       "0   1008.81          0.0           0.0  0.0    0.0  IDRSING3  \n",
       "1   1009.14          0.0           0.0  0.0    0.0  IDRSING3  "
      ]
     },
     "execution_count": 65,
     "metadata": {},
     "output_type": "execute_result"
    }
   ],
   "source": [
    "df.head(2)"
   ]
  },
  {
   "cell_type": "code",
   "execution_count": 66,
   "metadata": {},
   "outputs": [
    {
     "data": {
      "text/html": [
       "<div>\n",
       "<style scoped>\n",
       "    .dataframe tbody tr th:only-of-type {\n",
       "        vertical-align: middle;\n",
       "    }\n",
       "\n",
       "    .dataframe tbody tr th {\n",
       "        vertical-align: top;\n",
       "    }\n",
       "\n",
       "    .dataframe thead th {\n",
       "        text-align: right;\n",
       "    }\n",
       "</style>\n",
       "<table border=\"1\" class=\"dataframe\">\n",
       "  <thead>\n",
       "    <tr style=\"text-align: right;\">\n",
       "      <th></th>\n",
       "      <th>Date</th>\n",
       "      <th>Time</th>\n",
       "      <th>temp</th>\n",
       "      <th>dewpoint</th>\n",
       "      <th>humidity</th>\n",
       "      <th>wind_direction</th>\n",
       "      <th>wind</th>\n",
       "      <th>wind_gust</th>\n",
       "      <th>pressure</th>\n",
       "      <th>hour_rain</th>\n",
       "      <th>total_rain</th>\n",
       "      <th>UV</th>\n",
       "      <th>solar</th>\n",
       "      <th>station</th>\n",
       "    </tr>\n",
       "  </thead>\n",
       "  <tbody>\n",
       "    <tr>\n",
       "      <th>0</th>\n",
       "      <td>2017/07/01</td>\n",
       "      <td>02:03 AM</td>\n",
       "      <td>17.28</td>\n",
       "      <td>12.78</td>\n",
       "      <td>75.0</td>\n",
       "      <td>West</td>\n",
       "      <td>0.00</td>\n",
       "      <td>0.00</td>\n",
       "      <td>1008.81</td>\n",
       "      <td>0.0</td>\n",
       "      <td>0.0</td>\n",
       "      <td>0.0</td>\n",
       "      <td>0.0</td>\n",
       "      <td>IDRSING3</td>\n",
       "    </tr>\n",
       "    <tr>\n",
       "      <th>1</th>\n",
       "      <td>2017/07/01</td>\n",
       "      <td>02:08 AM</td>\n",
       "      <td>17.50</td>\n",
       "      <td>12.39</td>\n",
       "      <td>72.0</td>\n",
       "      <td>West</td>\n",
       "      <td>2.57</td>\n",
       "      <td>3.54</td>\n",
       "      <td>1009.14</td>\n",
       "      <td>0.0</td>\n",
       "      <td>0.0</td>\n",
       "      <td>0.0</td>\n",
       "      <td>0.0</td>\n",
       "      <td>IDRSING3</td>\n",
       "    </tr>\n",
       "  </tbody>\n",
       "</table>\n",
       "</div>"
      ],
      "text/plain": [
       "         Date      Time   temp  dewpoint  humidity wind_direction  wind  \\\n",
       "0  2017/07/01  02:03 AM  17.28     12.78      75.0           West  0.00   \n",
       "1  2017/07/01  02:08 AM  17.50     12.39      72.0           West  2.57   \n",
       "\n",
       "   wind_gust  pressure  hour_rain  total_rain   UV  solar   station  \n",
       "0       0.00   1008.81        0.0         0.0  0.0    0.0  IDRSING3  \n",
       "1       3.54   1009.14        0.0         0.0  0.0    0.0  IDRSING3  "
      ]
     },
     "execution_count": 66,
     "metadata": {},
     "output_type": "execute_result"
    }
   ],
   "source": [
    "to_normed_df(df).head(2)"
   ]
  },
  {
   "cell_type": "code",
   "execution_count": 59,
   "metadata": {},
   "outputs": [
    {
     "data": {
      "text/plain": [
       "array(['Date', 'Time', 'Temperature', 'Dew_Point', 'Humidity', 'Wind',\n",
       "       'Speed', 'Gust', 'Pressure', 'Precip_Rate', 'Precip_Accum', 'UV',\n",
       "       'Solar'], dtype=object)"
      ]
     },
     "execution_count": 59,
     "metadata": {},
     "output_type": "execute_result"
    }
   ],
   "source": [
    "df.columns.values"
   ]
  },
  {
   "cell_type": "markdown",
   "metadata": {},
   "source": [
    "## Test Loading the Data"
   ]
  },
  {
   "cell_type": "code",
   "execution_count": 2,
   "metadata": {},
   "outputs": [],
   "source": [
    "import pandas as pd"
   ]
  },
  {
   "cell_type": "code",
   "execution_count": 7,
   "metadata": {},
   "outputs": [],
   "source": [
    "df = pd.read_csv(\"IDRSING3.csv\")"
   ]
  },
  {
   "cell_type": "code",
   "execution_count": 3,
   "metadata": {},
   "outputs": [],
   "source": [
    "df1 = pd.read_csv(\"./Data/2017/10.csv\")"
   ]
  },
  {
   "cell_type": "markdown",
   "metadata": {},
   "source": [
    "# Test Production Code"
   ]
  },
  {
   "cell_type": "code",
   "execution_count": 1,
   "metadata": {},
   "outputs": [],
   "source": [
    "import matplotlib.pyplot as plt\n",
    "import datetime\n",
    "from visualize_data import Analyze_WD\n",
    "from load_data import SummaryData, WeatherData2"
   ]
  },
  {
   "cell_type": "code",
   "execution_count": 3,
   "metadata": {},
   "outputs": [
    {
     "name": "stdout",
     "output_type": "stream",
     "text": [
      "Downloading: Year: 2022 Month: 5 Day: 4 \n",
      "Downloading Weather data from https://www.wunderground.com/dashboard/pws/IDRSING3/table/2022-05-04/2022-05-04/daily\n",
      "list index out of range! probably caused by an empty row in the data\n",
      "Saving 286 rows\n"
     ]
    }
   ],
   "source": [
    "wd = WeatherData2()\n",
    "wd.output = True\n",
    "\n",
    "df = wd.download_data_day(4, 5, 2022)"
   ]
  },
  {
   "cell_type": "markdown",
   "metadata": {},
   "source": [
    "### Test Loading of whole Month"
   ]
  },
  {
   "cell_type": "code",
   "execution_count": null,
   "metadata": {},
   "outputs": [
    {
     "ename": "NameError",
     "evalue": "name 'datetime' is not defined",
     "output_type": "error",
     "traceback": [
      "\u001b[0;31m---------------------------------------------------------------------------\u001b[0m",
      "\u001b[0;31mNameError\u001b[0m                                 Traceback (most recent call last)",
      "File \u001b[0;32m<timed exec>:3\u001b[0m, in \u001b[0;36m<module>\u001b[0;34m\u001b[0m\n",
      "\u001b[0;31mNameError\u001b[0m: name 'datetime' is not defined"
     ]
    }
   ],
   "source": [
    "%%time\n",
    "\n",
    "from load_data import WeatherData2\n",
    "\n",
    "month = datetime.date(year=2022, month=7, day=3)\n",
    "# Test the Class:\n",
    "wd = WeatherData2()\n",
    "wd.local_save_month(month)"
   ]
  },
  {
   "cell_type": "markdown",
   "metadata": {},
   "source": [
    "### Test plotting of clean data"
   ]
  },
  {
   "cell_type": "code",
   "execution_count": 14,
   "metadata": {},
   "outputs": [
    {
     "data": {
      "image/png": "[encoded data removed]",
      "text/plain": [
       "<Figure size 720x144 with 1 Axes>"
      ]
     },
     "metadata": {
      "needs_background": "light"
     },
     "output_type": "display_data"
    },
    {
     "name": "stdout",
     "output_type": "stream",
     "text": [
      "CPU times: user 425 ms, sys: 167 ms, total: 591 ms\n",
      "Wall time: 319 ms\n"
     ]
    }
   ],
   "source": [
    "%%time\n",
    "\n",
    "date = datetime.date(year=2022, month=5, day=4)\n",
    "# Test the Class:\n",
    "wd = WeatherData2()\n",
    "wd.output = True\n",
    "\n",
    "#df = wd.download_data_day(4, 5, 2022)\n",
    "df = wd.give_data_day_clean(date)\n",
    "\n",
    "plt.figure(figsize=(10,2))\n",
    "plt.plot(df.index, df[\"temp\"], 'ro')\n",
    "plt.show()\n",
    "\n",
    "#df.head(10)"
   ]
  },
  {
   "cell_type": "code",
   "execution_count": null,
   "metadata": {},
   "outputs": [],
   "source": [
    "sd = SummaryData(wd)\n",
    "v_wd = Analyze_WD(wd, sd)\n",
    "\n",
    "month = datetime.date(year=2022, month=5, day=1)\n",
    "v_wd.visualize_rain_month(date_month=month)"
   ]
  },
  {
   "cell_type": "code",
   "execution_count": null,
   "metadata": {},
   "outputs": [],
   "source": [
    "\n",
    "sd = SummaryData(wd)\n",
    "v_wd = Analyze_WD(wd, sd)\n",
    "\n",
    "month = datetime.date(year=2018, month=6, day=1)\n",
    "v_wd.visualize_rain_month(date_month=month)"
   ]
  },
  {
   "cell_type": "code",
   "execution_count": 3,
   "metadata": {},
   "outputs": [],
   "source": [
    "wd = WeatherData2()\n",
    "month = datetime.date(year=2022, month=5, day=1)\n",
    "df = wd.give_data_month(month)"
   ]
  },
  {
   "cell_type": "code",
   "execution_count": 13,
   "metadata": {},
   "outputs": [
    {
     "data": {
      "text/plain": [
       "DatetimeIndex(['2022-04-30 22:04:00+00:00', '2022-04-30 22:09:00+00:00',\n",
       "               '2022-04-30 22:14:00+00:00', '2022-04-30 22:19:00+00:00',\n",
       "               '2022-04-30 22:24:00+00:00', '2022-04-30 22:29:00+00:00',\n",
       "               '2022-04-30 22:34:00+00:00', '2022-04-30 22:39:00+00:00',\n",
       "               '2022-04-30 22:44:00+00:00', '2022-04-30 22:49:00+00:00',\n",
       "               ...\n",
       "               '2022-05-31 21:14:00+00:00', '2022-05-31 21:19:00+00:00',\n",
       "               '2022-05-31 21:24:00+00:00', '2022-05-31 21:29:00+00:00',\n",
       "               '2022-05-31 21:34:00+00:00', '2022-05-31 21:39:00+00:00',\n",
       "               '2022-05-31 21:44:00+00:00', '2022-05-31 21:49:00+00:00',\n",
       "               '2022-05-31 21:54:00+00:00', '2022-05-31 21:59:00+00:00'],\n",
       "              dtype='datetime64[ns, UTC]', name='date', length=8882, freq=None)"
      ]
     },
     "execution_count": 13,
     "metadata": {},
     "output_type": "execute_result"
    }
   ],
   "source": [
    "df.index"
   ]
  },
  {
   "cell_type": "code",
   "execution_count": 11,
   "metadata": {},
   "outputs": [
    {
     "ename": "AttributeError",
     "evalue": "'numpy.ndarray' object has no attribute 'apply'",
     "output_type": "error",
     "traceback": [
      "\u001b[0;31m---------------------------------------------------------------------------\u001b[0m",
      "\u001b[0;31mAttributeError\u001b[0m                            Traceback (most recent call last)",
      "Input \u001b[0;32mIn [11]\u001b[0m, in \u001b[0;36m<cell line: 1>\u001b[0;34m()\u001b[0m\n\u001b[0;32m----> 1\u001b[0m \u001b[43mdf\u001b[49m\u001b[38;5;241;43m.\u001b[39;49m\u001b[43mindex\u001b[49m\u001b[38;5;241;43m.\u001b[39;49m\u001b[43mvalues\u001b[49m\u001b[38;5;241;43m.\u001b[39;49m\u001b[43mapply\u001b[49m(\u001b[38;5;28;01mlambda\u001b[39;00m t: t\u001b[38;5;241m.\u001b[39mtz \u001b[38;5;129;01mis\u001b[39;00m \u001b[38;5;28;01mNone\u001b[39;00m)\u001b[38;5;241m.\u001b[39mall()\n",
      "\u001b[0;31mAttributeError\u001b[0m: 'numpy.ndarray' object has no attribute 'apply'"
     ]
    }
   ],
   "source": [
    "df.index.values.apply(lambda t: t.tz is None).all()"
   ]
  },
  {
   "cell_type": "code",
   "execution_count": null,
   "metadata": {},
   "outputs": [],
   "source": [
    "df.tz_localize('CET')"
   ]
  },
  {
   "cell_type": "code",
   "execution_count": 19,
   "metadata": {},
   "outputs": [
    {
     "data": {
      "text/html": [
       "<div>\n",
       "<style scoped>\n",
       "    .dataframe tbody tr th:only-of-type {\n",
       "        vertical-align: middle;\n",
       "    }\n",
       "\n",
       "    .dataframe tbody tr th {\n",
       "        vertical-align: top;\n",
       "    }\n",
       "\n",
       "    .dataframe thead th {\n",
       "        text-align: right;\n",
       "    }\n",
       "</style>\n",
       "<table border=\"1\" class=\"dataframe\">\n",
       "  <thead>\n",
       "    <tr style=\"text-align: right;\">\n",
       "      <th></th>\n",
       "      <th>Date</th>\n",
       "      <th>Time</th>\n",
       "      <th>temp</th>\n",
       "      <th>dewpoint</th>\n",
       "      <th>humidity</th>\n",
       "      <th>wind_direction</th>\n",
       "      <th>wind</th>\n",
       "      <th>wind_gust</th>\n",
       "      <th>pressure</th>\n",
       "      <th>hour_rain</th>\n",
       "      <th>total_rain</th>\n",
       "      <th>UV</th>\n",
       "      <th>solar</th>\n",
       "      <th>station</th>\n",
       "    </tr>\n",
       "    <tr>\n",
       "      <th>date</th>\n",
       "      <th></th>\n",
       "      <th></th>\n",
       "      <th></th>\n",
       "      <th></th>\n",
       "      <th></th>\n",
       "      <th></th>\n",
       "      <th></th>\n",
       "      <th></th>\n",
       "      <th></th>\n",
       "      <th></th>\n",
       "      <th></th>\n",
       "      <th></th>\n",
       "      <th></th>\n",
       "      <th></th>\n",
       "    </tr>\n",
       "  </thead>\n",
       "  <tbody>\n",
       "    <tr>\n",
       "      <th>2022-04-30 22:04:00+00:00</th>\n",
       "      <td>2022/05/01</td>\n",
       "      <td>12:04 AM</td>\n",
       "      <td>7.00</td>\n",
       "      <td>0.67</td>\n",
       "      <td>64.0</td>\n",
       "      <td>SW</td>\n",
       "      <td>0.00</td>\n",
       "      <td>0.00</td>\n",
       "      <td>1021.00</td>\n",
       "      <td>0.0</td>\n",
       "      <td>0.0</td>\n",
       "      <td>0.0</td>\n",
       "      <td>0.0</td>\n",
       "      <td>IDRSING3</td>\n",
       "    </tr>\n",
       "    <tr>\n",
       "      <th>2022-04-30 22:09:00+00:00</th>\n",
       "      <td>2022/05/01</td>\n",
       "      <td>12:09 AM</td>\n",
       "      <td>6.83</td>\n",
       "      <td>0.22</td>\n",
       "      <td>63.0</td>\n",
       "      <td>SW</td>\n",
       "      <td>0.00</td>\n",
       "      <td>0.00</td>\n",
       "      <td>1021.00</td>\n",
       "      <td>0.0</td>\n",
       "      <td>0.0</td>\n",
       "      <td>0.0</td>\n",
       "      <td>0.0</td>\n",
       "      <td>IDRSING3</td>\n",
       "    </tr>\n",
       "    <tr>\n",
       "      <th>2022-04-30 22:14:00+00:00</th>\n",
       "      <td>2022/05/01</td>\n",
       "      <td>12:14 AM</td>\n",
       "      <td>6.67</td>\n",
       "      <td>-0.56</td>\n",
       "      <td>60.0</td>\n",
       "      <td>SW</td>\n",
       "      <td>0.00</td>\n",
       "      <td>0.00</td>\n",
       "      <td>1021.00</td>\n",
       "      <td>0.0</td>\n",
       "      <td>0.0</td>\n",
       "      <td>0.0</td>\n",
       "      <td>0.0</td>\n",
       "      <td>IDRSING3</td>\n",
       "    </tr>\n",
       "    <tr>\n",
       "      <th>2022-04-30 22:19:00+00:00</th>\n",
       "      <td>2022/05/01</td>\n",
       "      <td>12:19 AM</td>\n",
       "      <td>6.33</td>\n",
       "      <td>-1.44</td>\n",
       "      <td>57.0</td>\n",
       "      <td>SW</td>\n",
       "      <td>0.00</td>\n",
       "      <td>0.00</td>\n",
       "      <td>1021.00</td>\n",
       "      <td>0.0</td>\n",
       "      <td>0.0</td>\n",
       "      <td>0.0</td>\n",
       "      <td>0.0</td>\n",
       "      <td>IDRSING3</td>\n",
       "    </tr>\n",
       "    <tr>\n",
       "      <th>2022-04-30 22:24:00+00:00</th>\n",
       "      <td>2022/05/01</td>\n",
       "      <td>12:24 AM</td>\n",
       "      <td>6.50</td>\n",
       "      <td>-0.50</td>\n",
       "      <td>61.0</td>\n",
       "      <td>SW</td>\n",
       "      <td>0.00</td>\n",
       "      <td>0.00</td>\n",
       "      <td>1021.00</td>\n",
       "      <td>0.0</td>\n",
       "      <td>0.0</td>\n",
       "      <td>0.0</td>\n",
       "      <td>0.0</td>\n",
       "      <td>IDRSING3</td>\n",
       "    </tr>\n",
       "    <tr>\n",
       "      <th>...</th>\n",
       "      <td>...</td>\n",
       "      <td>...</td>\n",
       "      <td>...</td>\n",
       "      <td>...</td>\n",
       "      <td>...</td>\n",
       "      <td>...</td>\n",
       "      <td>...</td>\n",
       "      <td>...</td>\n",
       "      <td>...</td>\n",
       "      <td>...</td>\n",
       "      <td>...</td>\n",
       "      <td>...</td>\n",
       "      <td>...</td>\n",
       "      <td>...</td>\n",
       "    </tr>\n",
       "    <tr>\n",
       "      <th>2022-05-31 21:39:00+00:00</th>\n",
       "      <td>2022/05/31</td>\n",
       "      <td>11:39 PM</td>\n",
       "      <td>17.50</td>\n",
       "      <td>8.00</td>\n",
       "      <td>54.0</td>\n",
       "      <td>ESE</td>\n",
       "      <td>0.80</td>\n",
       "      <td>1.77</td>\n",
       "      <td>1014.56</td>\n",
       "      <td>0.0</td>\n",
       "      <td>0.0</td>\n",
       "      <td>0.0</td>\n",
       "      <td>0.0</td>\n",
       "      <td>IDRSING3</td>\n",
       "    </tr>\n",
       "    <tr>\n",
       "      <th>2022-05-31 21:44:00+00:00</th>\n",
       "      <td>2022/05/31</td>\n",
       "      <td>11:44 PM</td>\n",
       "      <td>17.67</td>\n",
       "      <td>8.22</td>\n",
       "      <td>54.0</td>\n",
       "      <td>ESE</td>\n",
       "      <td>1.77</td>\n",
       "      <td>2.90</td>\n",
       "      <td>1014.56</td>\n",
       "      <td>0.0</td>\n",
       "      <td>0.0</td>\n",
       "      <td>0.0</td>\n",
       "      <td>0.0</td>\n",
       "      <td>IDRSING3</td>\n",
       "    </tr>\n",
       "    <tr>\n",
       "      <th>2022-05-31 21:49:00+00:00</th>\n",
       "      <td>2022/05/31</td>\n",
       "      <td>11:49 PM</td>\n",
       "      <td>17.72</td>\n",
       "      <td>8.28</td>\n",
       "      <td>54.0</td>\n",
       "      <td>SE</td>\n",
       "      <td>1.61</td>\n",
       "      <td>2.41</td>\n",
       "      <td>1014.90</td>\n",
       "      <td>0.0</td>\n",
       "      <td>0.0</td>\n",
       "      <td>0.0</td>\n",
       "      <td>0.0</td>\n",
       "      <td>IDRSING3</td>\n",
       "    </tr>\n",
       "    <tr>\n",
       "      <th>2022-05-31 21:54:00+00:00</th>\n",
       "      <td>2022/05/31</td>\n",
       "      <td>11:54 PM</td>\n",
       "      <td>17.78</td>\n",
       "      <td>8.11</td>\n",
       "      <td>53.0</td>\n",
       "      <td>SE</td>\n",
       "      <td>2.09</td>\n",
       "      <td>2.90</td>\n",
       "      <td>1014.90</td>\n",
       "      <td>0.0</td>\n",
       "      <td>0.0</td>\n",
       "      <td>0.0</td>\n",
       "      <td>0.0</td>\n",
       "      <td>IDRSING3</td>\n",
       "    </tr>\n",
       "    <tr>\n",
       "      <th>2022-05-31 21:59:00+00:00</th>\n",
       "      <td>2022/05/31</td>\n",
       "      <td>11:59 PM</td>\n",
       "      <td>17.78</td>\n",
       "      <td>7.89</td>\n",
       "      <td>52.0</td>\n",
       "      <td>SE</td>\n",
       "      <td>1.29</td>\n",
       "      <td>2.25</td>\n",
       "      <td>1014.90</td>\n",
       "      <td>0.0</td>\n",
       "      <td>0.0</td>\n",
       "      <td>0.0</td>\n",
       "      <td>0.0</td>\n",
       "      <td>IDRSING3</td>\n",
       "    </tr>\n",
       "  </tbody>\n",
       "</table>\n",
       "<p>8882 rows × 14 columns</p>\n",
       "</div>"
      ],
      "text/plain": [
       "                                 Date      Time   temp  dewpoint  humidity  \\\n",
       "date                                                                         \n",
       "2022-04-30 22:04:00+00:00  2022/05/01  12:04 AM   7.00      0.67      64.0   \n",
       "2022-04-30 22:09:00+00:00  2022/05/01  12:09 AM   6.83      0.22      63.0   \n",
       "2022-04-30 22:14:00+00:00  2022/05/01  12:14 AM   6.67     -0.56      60.0   \n",
       "2022-04-30 22:19:00+00:00  2022/05/01  12:19 AM   6.33     -1.44      57.0   \n",
       "2022-04-30 22:24:00+00:00  2022/05/01  12:24 AM   6.50     -0.50      61.0   \n",
       "...                               ...       ...    ...       ...       ...   \n",
       "2022-05-31 21:39:00+00:00  2022/05/31  11:39 PM  17.50      8.00      54.0   \n",
       "2022-05-31 21:44:00+00:00  2022/05/31  11:44 PM  17.67      8.22      54.0   \n",
       "2022-05-31 21:49:00+00:00  2022/05/31  11:49 PM  17.72      8.28      54.0   \n",
       "2022-05-31 21:54:00+00:00  2022/05/31  11:54 PM  17.78      8.11      53.0   \n",
       "2022-05-31 21:59:00+00:00  2022/05/31  11:59 PM  17.78      7.89      52.0   \n",
       "\n",
       "                          wind_direction  wind  wind_gust  pressure  \\\n",
       "date                                                                  \n",
       "2022-04-30 22:04:00+00:00             SW  0.00       0.00   1021.00   \n",
       "2022-04-30 22:09:00+00:00             SW  0.00       0.00   1021.00   \n",
       "2022-04-30 22:14:00+00:00             SW  0.00       0.00   1021.00   \n",
       "2022-04-30 22:19:00+00:00             SW  0.00       0.00   1021.00   \n",
       "2022-04-30 22:24:00+00:00             SW  0.00       0.00   1021.00   \n",
       "...                                  ...   ...        ...       ...   \n",
       "2022-05-31 21:39:00+00:00            ESE  0.80       1.77   1014.56   \n",
       "2022-05-31 21:44:00+00:00            ESE  1.77       2.90   1014.56   \n",
       "2022-05-31 21:49:00+00:00             SE  1.61       2.41   1014.90   \n",
       "2022-05-31 21:54:00+00:00             SE  2.09       2.90   1014.90   \n",
       "2022-05-31 21:59:00+00:00             SE  1.29       2.25   1014.90   \n",
       "\n",
       "                           hour_rain  total_rain   UV  solar   station  \n",
       "date                                                                    \n",
       "2022-04-30 22:04:00+00:00        0.0         0.0  0.0    0.0  IDRSING3  \n",
       "2022-04-30 22:09:00+00:00        0.0         0.0  0.0    0.0  IDRSING3  \n",
       "2022-04-30 22:14:00+00:00        0.0         0.0  0.0    0.0  IDRSING3  \n",
       "2022-04-30 22:19:00+00:00        0.0         0.0  0.0    0.0  IDRSING3  \n",
       "2022-04-30 22:24:00+00:00        0.0         0.0  0.0    0.0  IDRSING3  \n",
       "...                              ...         ...  ...    ...       ...  \n",
       "2022-05-31 21:39:00+00:00        0.0         0.0  0.0    0.0  IDRSING3  \n",
       "2022-05-31 21:44:00+00:00        0.0         0.0  0.0    0.0  IDRSING3  \n",
       "2022-05-31 21:49:00+00:00        0.0         0.0  0.0    0.0  IDRSING3  \n",
       "2022-05-31 21:54:00+00:00        0.0         0.0  0.0    0.0  IDRSING3  \n",
       "2022-05-31 21:59:00+00:00        0.0         0.0  0.0    0.0  IDRSING3  \n",
       "\n",
       "[8882 rows x 14 columns]"
      ]
     },
     "execution_count": 19,
     "metadata": {},
     "output_type": "execute_result"
    }
   ],
   "source": [
    "#.tz_convert(timezone = \"Europe/Vienna\") "
   ]
  },
  {
   "cell_type": "code",
   "execution_count": 2,
   "metadata": {},
   "outputs": [],
   "source": [
    "from dateutil.rrule import rrule, MONTHLY"
   ]
  },
  {
   "cell_type": "code",
   "execution_count": 28,
   "metadata": {},
   "outputs": [],
   "source": [
    "d1 = date(2017, 7, 31)\n",
    "d2 = date(2018, 12, 3)"
   ]
  },
  {
   "cell_type": "code",
   "execution_count": 29,
   "metadata": {},
   "outputs": [
    {
     "name": "stdout",
     "output_type": "stream",
     "text": [
      "2017-07-31 00:00:00\n",
      "2017-08-31 00:00:00\n",
      "2017-10-31 00:00:00\n",
      "2017-12-31 00:00:00\n",
      "2018-01-31 00:00:00\n",
      "2018-03-31 00:00:00\n",
      "2018-05-31 00:00:00\n",
      "2018-07-31 00:00:00\n",
      "2018-08-31 00:00:00\n",
      "2018-10-31 00:00:00\n"
     ]
    }
   ],
   "source": [
    "for dt in rrule(MONTHLY, dtstart=d1, until=d2):\n",
    "    print(dt)"
   ]
  },
  {
   "cell_type": "code",
   "execution_count": 15,
   "metadata": {},
   "outputs": [
    {
     "data": {
      "text/plain": [
       "datetime.datetime(2017, 9, 30, 0, 0)"
      ]
     },
     "execution_count": 15,
     "metadata": {},
     "output_type": "execute_result"
    }
   ],
   "source": [
    "import calendar\n",
    "\n",
    "\n",
    "\n",
    "day=calendar.monthrange(d2.year, d2.month)[1]\n",
    "x = datetime.datetime(d2.year, d2.month, day)\n",
    "x"
   ]
  },
  {
   "cell_type": "markdown",
   "metadata": {},
   "source": [
    "# Legacy"
   ]
  },
  {
   "cell_type": "code",
   "execution_count": null,
   "metadata": {},
   "outputs": [],
   "source": [
    "def scrap_station(weather_station_url=\"https://www.wunderground.com/dashboard/pws/IDRSING3\", \n",
    "                  unit_system=\"metric\", start_DATE=\"\", end_DATE=\"\", timeout = 5, savepath=\"\", output=True):\n",
    "    \"\"\"Get data from Weather Station. \n",
    "    Input: Parameters about station and start and end date\n",
    "    Return: Pandas Dataframe in format for Weather Station\"\"\"\n",
    "    \n",
    "    session = requests.Session()\n",
    "    \n",
    "    url_gen = Utils.date_url_generator(weather_station_url, start_DATE, end_DATE)\n",
    "    station_name = weather_station_url.split('/')[-1]\n",
    "    if len(savepath)==0:\n",
    "        savepath = f'{station_name}.csv'\n",
    "\n",
    "    with open(savepath, 'a+', newline='') as csvfile:\n",
    "        #fieldnames = ['Date', 'Time',\t'Temperature',\t'Dew_Point', 'Humidity', 'Wind', 'Speed',\n",
    "        #              'Gust',\t'Pressure',\t'Precip_Rate',\t'Precip_Accum',\t'UV',   'Solar']\n",
    "        #writer = csv.DictWriter(csvfile, fieldnames=fieldnames)\n",
    "\n",
    "        # Write the correct headers to the CSV file\n",
    "        # 12:04 AM\t24.4 C\t18.3 C\t69 %\tSW\t0.0 km/h\t0.0 km/h\t1,013.88 hPa\t0.00 mm\t0.00 mm\t0\t0 w/m²\n",
    "        \n",
    "        #writer.writerow({'Date': 'Date', 'Time': 'Time', \n",
    "        #                 'Temperature': 'Temperature_C', 'Dew_Point':\n",
    "        #                 'Dew_Point_C',\t'Humidity': 'Humidity_%', \n",
    "        #                 'Wind': 'Wind', 'Speed': 'Speed_kmh',\t\n",
    "        #                 'Gust': 'Gust_kmh',\t'Pressure': 'Pressure_hPa',\t\n",
    "        #                 'Precip_Rate': 'Precip_Rate_mm',\t\n",
    "        #                 'Precip_Accum': 'Precip_Accum_mm',\t'UV': 'UV',   'Solar': 'Solar_w/m2'})\n",
    "        \n",
    "        dfs = [] # Where the output will be saved to\n",
    "        for date_string, url in url_gen:\n",
    "            try:\n",
    "                if output:\n",
    "                    print(f'Downloading Weather data from {url}')\n",
    "                history_table = False\n",
    "                while not history_table:\n",
    "                    html_string = session.get(url, timeout=timeout)\n",
    "                    doc = lh.fromstring(html_string.content)\n",
    "                    history_table = doc.xpath('//*[@id=\"main-page-content\"]/div/div/div/lib-history/div[2]/lib-history-table/div/div/div/table/tbody')\n",
    "                    if not history_table:\n",
    "                        if output:\n",
    "                            print(\"Refreshing session.\")\n",
    "                        session = requests.Session()\n",
    "\n",
    "                # parse html table rows\n",
    "                data_rows = Parser.parse_html_table(date_string, history_table)\n",
    "\n",
    "                # convert to metric system\n",
    "                converter = ConvertToSystem(unit_system)\n",
    "                data_to_write = converter.clean_and_convert(data_rows)\n",
    "                dfs.append(pd.DataFrame(data_to_write))\n",
    "                    \n",
    "                print(f'Saving {len(data_to_write)} rows')\n",
    "                #writer.writerows(data_to_write)\n",
    "            except Exception as e:\n",
    "                print(e)\n",
    "        df=pd.concat(dfs)       \n",
    "        return df"
   ]
  }
 ],
 "metadata": {
  "kernelspec": {
   "display_name": "Python 3 (ipykernel)",
   "language": "python",
   "name": "python3"
  },
  "language_info": {
   "codemirror_mode": {
    "name": "ipython",
    "version": 3
   },
   "file_extension": ".py",
   "mimetype": "text/x-python",
   "name": "python",
   "nbconvert_exporter": "python",
   "pygments_lexer": "ipython3",
   "version": "3.10.4"
  }
 },
 "nbformat": 4,
 "nbformat_minor": 4
}
