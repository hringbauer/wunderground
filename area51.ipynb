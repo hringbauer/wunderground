{
 "cells": [
  {
   "cell_type": "markdown",
   "metadata": {},
   "source": [
    "# Area for testing Code"
   ]
  },
  {
   "cell_type": "markdown",
   "metadata": {},
   "source": [
    "### Try code loading weather from weather station"
   ]
  },
  {
   "cell_type": "code",
   "execution_count": 6,
   "metadata": {},
   "outputs": [],
   "source": [
    "import requests\n",
    "import csv\n",
    "import lxml.html as lh\n",
    "\n",
    "from util.UnitConverter import ConvertToSystem\n",
    "from util.Parser import Parser\n",
    "from util.Utils import Utils\n",
    "from datetime import date\n",
    "\n",
    "default_station = \"https://www.wunderground.com/dashboard/pws/IDRSING3\"\n",
    "\n",
    "def scrap_station(weather_station_url=\"https://www.wunderground.com/dashboard/pws/IDRSING3\", \n",
    "                  unit_system=\"metric\", start_DATE=\"\", end_DATE=\"\", timeout = 5):\n",
    "    \"\"\"Get date from Weather Station. Create temporary .csv and return \n",
    "    path to it.\"\"\"\n",
    "    \n",
    "    session = requests.Session()\n",
    "    \n",
    "    url_gen = Utils.date_url_generator(weather_station_url, start_DATE, end_DATE)\n",
    "    station_name = weather_station_url.split('/')[-1]\n",
    "    file_name = f'{station_name}.csv'\n",
    "\n",
    "    with open(file_name, 'a+', newline='') as csvfile:\n",
    "        fieldnames = ['Date', 'Time',\t'Temperature',\t'Dew_Point',\t'Humidity',\t'Wind',\t'Speed',\t'Gust',\t'Pressure',\t'Precip_Rate',\t'Precip_Accum',\t'UV',   'Solar']\n",
    "        writer = csv.DictWriter(csvfile, fieldnames=fieldnames)\n",
    "\n",
    "        # Write the correct headers to the CSV file\n",
    "        # 12:04 AM\t24.4 C\t18.3 C\t69 %\tSW\t0.0 km/h\t0.0 km/h\t1,013.88 hPa\t0.00 mm\t0.00 mm\t0\t0 w/m²\n",
    "        writer.writerow({'Date': 'Date', 'Time': 'Time', \n",
    "                         'Temperature': 'Temperature_C', 'Dew_Point':\n",
    "                         'Dew_Point_C',\t'Humidity': 'Humidity_%', \n",
    "                         'Wind': 'Wind', 'Speed': 'Speed_kmh',\t\n",
    "                         'Gust': 'Gust_kmh',\t'Pressure': 'Pressure_hPa',\t\n",
    "                         'Precip_Rate': 'Precip_Rate_mm',\t\n",
    "                         'Precip_Accum': 'Precip_Accum_mm',\t'UV': 'UV',   'Solar': 'Solar_w/m2'})\n",
    "\n",
    "        for date_string, url in url_gen:\n",
    "            try:\n",
    "                print(f'Weather data from {url}')\n",
    "                history_table = False\n",
    "                while not history_table:\n",
    "                    html_string = session.get(url, timeout=timeout)\n",
    "                    doc = lh.fromstring(html_string.content)\n",
    "                    history_table = doc.xpath('//*[@id=\"main-page-content\"]/div/div/div/lib-history/div[2]/lib-history-table/div/div/div/table/tbody')\n",
    "                    if not history_table:\n",
    "                        print(\"refreshing session\")\n",
    "                        session = requests.Session()\n",
    "\n",
    "                # parse html table rows\n",
    "                data_rows = Parser.parse_html_table(date_string, history_table)\n",
    "\n",
    "                # convert to metric system\n",
    "                converter = ConvertToSystem(unit_system)\n",
    "                data_to_write = converter.clean_and_convert(data_rows)\n",
    "                    \n",
    "                print(f'Saving {len(data_to_write)} rows')\n",
    "                writer.writerows(data_to_write)\n",
    "            except Exception as e:\n",
    "                print(e)"
   ]
  },
  {
   "cell_type": "code",
   "execution_count": 7,
   "metadata": {},
   "outputs": [
    {
     "name": "stdout",
     "output_type": "stream",
     "text": [
      "Weather data from https://www.wunderground.com/dashboard/pws/IDRSING3/table/2021-02-01/2021-02-01/daily\n",
      "HTTPSConnectionPool(host='www.wunderground.com', port=443): Read timed out. (read timeout=5)\n",
      "Weather data from https://www.wunderground.com/dashboard/pws/IDRSING3/table/2021-02-02/2021-02-02/daily\n",
      "Saving 287 rows\n",
      "Weather data from https://www.wunderground.com/dashboard/pws/IDRSING3/table/2021-02-03/2021-02-03/daily\n",
      "Saving 288 rows\n",
      "Weather data from https://www.wunderground.com/dashboard/pws/IDRSING3/table/2021-02-04/2021-02-04/daily\n",
      "Saving 288 rows\n",
      "Weather data from https://www.wunderground.com/dashboard/pws/IDRSING3/table/2021-02-05/2021-02-05/daily\n",
      "Saving 288 rows\n",
      "Weather data from https://www.wunderground.com/dashboard/pws/IDRSING3/table/2021-02-06/2021-02-06/daily\n",
      "Saving 288 rows\n",
      "Weather data from https://www.wunderground.com/dashboard/pws/IDRSING3/table/2021-02-07/2021-02-07/daily\n",
      "Saving 272 rows\n",
      "Weather data from https://www.wunderground.com/dashboard/pws/IDRSING3/table/2021-02-08/2021-02-08/daily\n",
      "Saving 288 rows\n",
      "Weather data from https://www.wunderground.com/dashboard/pws/IDRSING3/table/2021-02-09/2021-02-09/daily\n",
      "Saving 288 rows\n",
      "Weather data from https://www.wunderground.com/dashboard/pws/IDRSING3/table/2021-02-10/2021-02-10/daily\n",
      "HTTPSConnectionPool(host='www.wunderground.com', port=443): Read timed out. (read timeout=5)\n",
      "Weather data from https://www.wunderground.com/dashboard/pws/IDRSING3/table/2021-02-11/2021-02-11/daily\n",
      "Saving 288 rows\n",
      "Weather data from https://www.wunderground.com/dashboard/pws/IDRSING3/table/2021-02-12/2021-02-12/daily\n",
      "Saving 288 rows\n",
      "Weather data from https://www.wunderground.com/dashboard/pws/IDRSING3/table/2021-02-13/2021-02-13/daily\n",
      "Saving 288 rows\n",
      "Weather data from https://www.wunderground.com/dashboard/pws/IDRSING3/table/2021-02-14/2021-02-14/daily\n",
      "Saving 288 rows\n",
      "Weather data from https://www.wunderground.com/dashboard/pws/IDRSING3/table/2021-02-15/2021-02-15/daily\n",
      "Saving 288 rows\n"
     ]
    }
   ],
   "source": [
    "### Test running the scrapper\n",
    "\n",
    "d1 = date(2021, 2, 1)\n",
    "d2 = date(2021, 2, 15)\n",
    "\n",
    "scrap_station(start_DATE=d1, end_DATE=d2)"
   ]
  },
  {
   "cell_type": "code",
   "execution_count": null,
   "metadata": {},
   "outputs": [],
   "source": []
  }
 ],
 "metadata": {
  "kernelspec": {
   "display_name": "Python 3 (ipykernel)",
   "language": "python",
   "name": "python3"
  },
  "language_info": {
   "codemirror_mode": {
    "name": "ipython",
    "version": 3
   },
   "file_extension": ".py",
   "mimetype": "text/x-python",
   "name": "python",
   "nbconvert_exporter": "python",
   "pygments_lexer": "ipython3",
   "version": "3.9.6"
  }
 },
 "nbformat": 4,
 "nbformat_minor": 4
}
