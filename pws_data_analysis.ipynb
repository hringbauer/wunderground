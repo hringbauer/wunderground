{
 "cells": [
  {
   "cell_type": "code",
   "execution_count": 1,
   "metadata": {
    "collapsed": false,
    "deletable": true,
    "editable": true
   },
   "outputs": [],
   "source": [
    "import numpy as np\n",
    "import pandas as pd\n",
    "import matplotlib.pyplot as plt\n",
    "from load_data import WeatherData"
   ]
  },
  {
   "cell_type": "code",
   "execution_count": 2,
   "metadata": {
    "collapsed": false,
    "deletable": true,
    "editable": true
   },
   "outputs": [
    {
     "name": "stdout",
     "output_type": "stream",
     "text": [
      "Loading Data for Station:  IDRSING3\n",
      "http://www.wunderground.com/weatherstation/WXDailyHistory.asp?ID=IDRSING3&day=4&month=5&year=2017&graphspan=day&format=1\n",
      "Observations: 278\n",
      "temp                     float64\n",
      "hour_rain                float64\n",
      "total_rain               float64\n",
      "date              datetime64[ns]\n",
      "humidity                 float64\n",
      "wind_direction           float64\n",
      "wind                     float64\n",
      "wind_gust                float64\n",
      "pressure                 float64\n",
      "solar                    float64\n",
      "dewpoint                 float64\n",
      "station                   object\n",
      "dtype: object\n"
     ]
    },
    {
     "ename": "NameError",
     "evalue": "global name 'path' is not defined",
     "output_type": "error",
     "traceback": [
      "\u001b[0;31m---------------------------------------------------------------------------\u001b[0m",
      "\u001b[0;31mNameError\u001b[0m                                 Traceback (most recent call last)",
      "\u001b[0;32m<ipython-input-2-911f966c4d89>\u001b[0m in \u001b[0;36m<module>\u001b[0;34m()\u001b[0m\n\u001b[0;32m----> 1\u001b[0;31m \u001b[0mwd\u001b[0m \u001b[0;34m=\u001b[0m \u001b[0mWeatherData\u001b[0m\u001b[0;34m(\u001b[0m\u001b[0;34m)\u001b[0m\u001b[0;34m\u001b[0m\u001b[0m\n\u001b[0m",
      "\u001b[0;32m/home/hringbauer/Seafile/wunderground/load_data.py\u001b[0m in \u001b[0;36m__init__\u001b[0;34m(self, station_name, first_date)\u001b[0m\n\u001b[1;32m     38\u001b[0m         \u001b[0;31m# If no first Date Given load it!\u001b[0m\u001b[0;34m\u001b[0m\u001b[0;34m\u001b[0m\u001b[0m\n\u001b[1;32m     39\u001b[0m         \u001b[0;32mif\u001b[0m \u001b[0mfirst_date\u001b[0m \u001b[0;34m==\u001b[0m \u001b[0mNone\u001b[0m\u001b[0;34m:\u001b[0m\u001b[0;34m\u001b[0m\u001b[0m\n\u001b[0;32m---> 40\u001b[0;31m             \u001b[0mself\u001b[0m\u001b[0;34m.\u001b[0m\u001b[0mfirst_date\u001b[0m \u001b[0;34m=\u001b[0m \u001b[0mself\u001b[0m\u001b[0;34m.\u001b[0m\u001b[0mload_last_data\u001b[0m\u001b[0;34m(\u001b[0m\u001b[0;34m)\u001b[0m\u001b[0;34m\u001b[0m\u001b[0m\n\u001b[0m\u001b[1;32m     41\u001b[0m \u001b[0;34m\u001b[0m\u001b[0m\n\u001b[1;32m     42\u001b[0m \u001b[0;34m\u001b[0m\u001b[0m\n",
      "\u001b[0;32m/home/hringbauer/Seafile/wunderground/load_data.py\u001b[0m in \u001b[0;36mload_last_data\u001b[0;34m(self)\u001b[0m\n\u001b[1;32m     47\u001b[0m     \u001b[0;32mdef\u001b[0m \u001b[0mload_last_data\u001b[0m\u001b[0;34m(\u001b[0m\u001b[0mself\u001b[0m\u001b[0;34m)\u001b[0m\u001b[0;34m:\u001b[0m\u001b[0;34m\u001b[0m\u001b[0m\n\u001b[1;32m     48\u001b[0m         \u001b[0;34m'''Pickle loads the last date.'''\u001b[0m\u001b[0;34m\u001b[0m\u001b[0m\n\u001b[0;32m---> 49\u001b[0;31m         \u001b[0mself\u001b[0m\u001b[0;34m.\u001b[0m\u001b[0mlast_date\u001b[0m \u001b[0;34m=\u001b[0m \u001b[0mpickle\u001b[0m\u001b[0;34m.\u001b[0m\u001b[0mload\u001b[0m\u001b[0;34m(\u001b[0m\u001b[0mopen\u001b[0m\u001b[0;34m(\u001b[0m\u001b[0mpath\u001b[0m\u001b[0;34m,\u001b[0m \u001b[0;34m\"rb\"\u001b[0m\u001b[0;34m)\u001b[0m\u001b[0;34m)\u001b[0m\u001b[0;34m\u001b[0m\u001b[0m\n\u001b[0m\u001b[1;32m     50\u001b[0m         \u001b[0;32mreturn\u001b[0m \u001b[0mlast_date\u001b[0m\u001b[0;34m\u001b[0m\u001b[0m\n\u001b[1;32m     51\u001b[0m \u001b[0;34m\u001b[0m\u001b[0m\n",
      "\u001b[0;31mNameError\u001b[0m: global name 'path' is not defined"
     ]
    }
   ],
   "source": [
    "wd = WeatherData()"
   ]
  },
  {
   "cell_type": "code",
   "execution_count": 40,
   "metadata": {
    "collapsed": false,
    "deletable": true,
    "editable": true
   },
   "outputs": [
    {
     "data": {
      "text/html": [
       "<div>\n",
       "<table border=\"1\" class=\"dataframe\">\n",
       "  <thead>\n",
       "    <tr style=\"text-align: right;\">\n",
       "      <th></th>\n",
       "      <th>temp</th>\n",
       "      <th>hour_rain</th>\n",
       "      <th>total_rain</th>\n",
       "      <th>date</th>\n",
       "      <th>humidity</th>\n",
       "      <th>wind_direction</th>\n",
       "      <th>wind</th>\n",
       "      <th>wind_gust</th>\n",
       "      <th>pressure</th>\n",
       "      <th>solar</th>\n",
       "      <th>dewpoint</th>\n",
       "      <th>station</th>\n",
       "    </tr>\n",
       "  </thead>\n",
       "  <tbody>\n",
       "    <tr>\n",
       "      <th>15</th>\n",
       "      <td>7.5</td>\n",
       "      <td>1.8</td>\n",
       "      <td>0.3</td>\n",
       "      <td>2017-05-03 23:16:00</td>\n",
       "      <td>99.0</td>\n",
       "      <td>181.0</td>\n",
       "      <td>0.0</td>\n",
       "      <td>0.0</td>\n",
       "      <td>1015.1</td>\n",
       "      <td>0.0</td>\n",
       "      <td>7.3</td>\n",
       "      <td>IDRSING3</td>\n",
       "    </tr>\n",
       "    <tr>\n",
       "      <th>16</th>\n",
       "      <td>7.2</td>\n",
       "      <td>1.8</td>\n",
       "      <td>0.3</td>\n",
       "      <td>2017-05-03 23:21:00</td>\n",
       "      <td>99.0</td>\n",
       "      <td>181.0</td>\n",
       "      <td>0.0</td>\n",
       "      <td>0.0</td>\n",
       "      <td>1015.1</td>\n",
       "      <td>0.0</td>\n",
       "      <td>7.0</td>\n",
       "      <td>IDRSING3</td>\n",
       "    </tr>\n",
       "    <tr>\n",
       "      <th>17</th>\n",
       "      <td>7.1</td>\n",
       "      <td>0.0</td>\n",
       "      <td>0.3</td>\n",
       "      <td>2017-05-03 23:26:00</td>\n",
       "      <td>99.0</td>\n",
       "      <td>181.0</td>\n",
       "      <td>0.0</td>\n",
       "      <td>0.0</td>\n",
       "      <td>1015.1</td>\n",
       "      <td>0.0</td>\n",
       "      <td>6.9</td>\n",
       "      <td>IDRSING3</td>\n",
       "    </tr>\n",
       "    <tr>\n",
       "      <th>18</th>\n",
       "      <td>7.2</td>\n",
       "      <td>0.0</td>\n",
       "      <td>0.3</td>\n",
       "      <td>2017-05-03 23:32:00</td>\n",
       "      <td>99.0</td>\n",
       "      <td>181.0</td>\n",
       "      <td>0.0</td>\n",
       "      <td>0.0</td>\n",
       "      <td>1015.1</td>\n",
       "      <td>0.0</td>\n",
       "      <td>7.0</td>\n",
       "      <td>IDRSING3</td>\n",
       "    </tr>\n",
       "    <tr>\n",
       "      <th>19</th>\n",
       "      <td>6.9</td>\n",
       "      <td>0.0</td>\n",
       "      <td>0.3</td>\n",
       "      <td>2017-05-03 23:37:00</td>\n",
       "      <td>99.0</td>\n",
       "      <td>181.0</td>\n",
       "      <td>0.3</td>\n",
       "      <td>1.8</td>\n",
       "      <td>1015.1</td>\n",
       "      <td>0.0</td>\n",
       "      <td>6.7</td>\n",
       "      <td>IDRSING3</td>\n",
       "    </tr>\n",
       "    <tr>\n",
       "      <th>20</th>\n",
       "      <td>6.6</td>\n",
       "      <td>0.0</td>\n",
       "      <td>0.3</td>\n",
       "      <td>2017-05-03 23:42:00</td>\n",
       "      <td>99.0</td>\n",
       "      <td>181.0</td>\n",
       "      <td>0.0</td>\n",
       "      <td>0.0</td>\n",
       "      <td>1015.1</td>\n",
       "      <td>0.0</td>\n",
       "      <td>6.4</td>\n",
       "      <td>IDRSING3</td>\n",
       "    </tr>\n",
       "    <tr>\n",
       "      <th>21</th>\n",
       "      <td>6.7</td>\n",
       "      <td>0.0</td>\n",
       "      <td>0.3</td>\n",
       "      <td>2017-05-03 23:47:00</td>\n",
       "      <td>99.0</td>\n",
       "      <td>181.0</td>\n",
       "      <td>0.0</td>\n",
       "      <td>0.0</td>\n",
       "      <td>1015.1</td>\n",
       "      <td>0.0</td>\n",
       "      <td>6.5</td>\n",
       "      <td>IDRSING3</td>\n",
       "    </tr>\n",
       "    <tr>\n",
       "      <th>22</th>\n",
       "      <td>7.0</td>\n",
       "      <td>0.0</td>\n",
       "      <td>0.3</td>\n",
       "      <td>2017-05-03 23:58:00</td>\n",
       "      <td>99.0</td>\n",
       "      <td>181.0</td>\n",
       "      <td>0.0</td>\n",
       "      <td>0.0</td>\n",
       "      <td>1015.1</td>\n",
       "      <td>0.0</td>\n",
       "      <td>6.8</td>\n",
       "      <td>IDRSING3</td>\n",
       "    </tr>\n",
       "    <tr>\n",
       "      <th>23</th>\n",
       "      <td>7.1</td>\n",
       "      <td>0.0</td>\n",
       "      <td>0.3</td>\n",
       "      <td>2017-05-04 00:03:00</td>\n",
       "      <td>99.0</td>\n",
       "      <td>181.0</td>\n",
       "      <td>0.0</td>\n",
       "      <td>0.0</td>\n",
       "      <td>1015.1</td>\n",
       "      <td>0.0</td>\n",
       "      <td>6.9</td>\n",
       "      <td>IDRSING3</td>\n",
       "    </tr>\n",
       "    <tr>\n",
       "      <th>24</th>\n",
       "      <td>7.0</td>\n",
       "      <td>0.0</td>\n",
       "      <td>0.3</td>\n",
       "      <td>2017-05-04 00:08:00</td>\n",
       "      <td>99.0</td>\n",
       "      <td>181.0</td>\n",
       "      <td>0.0</td>\n",
       "      <td>0.0</td>\n",
       "      <td>1015.1</td>\n",
       "      <td>0.0</td>\n",
       "      <td>6.8</td>\n",
       "      <td>IDRSING3</td>\n",
       "    </tr>\n",
       "  </tbody>\n",
       "</table>\n",
       "</div>"
      ],
      "text/plain": [
       "    temp  hour_rain  total_rain                date  humidity  wind_direction  \\\n",
       "15   7.5        1.8         0.3 2017-05-03 23:16:00      99.0           181.0   \n",
       "16   7.2        1.8         0.3 2017-05-03 23:21:00      99.0           181.0   \n",
       "17   7.1        0.0         0.3 2017-05-03 23:26:00      99.0           181.0   \n",
       "18   7.2        0.0         0.3 2017-05-03 23:32:00      99.0           181.0   \n",
       "19   6.9        0.0         0.3 2017-05-03 23:37:00      99.0           181.0   \n",
       "20   6.6        0.0         0.3 2017-05-03 23:42:00      99.0           181.0   \n",
       "21   6.7        0.0         0.3 2017-05-03 23:47:00      99.0           181.0   \n",
       "22   7.0        0.0         0.3 2017-05-03 23:58:00      99.0           181.0   \n",
       "23   7.1        0.0         0.3 2017-05-04 00:03:00      99.0           181.0   \n",
       "24   7.0        0.0         0.3 2017-05-04 00:08:00      99.0           181.0   \n",
       "\n",
       "    wind  wind_gust  pressure  solar  dewpoint   station  \n",
       "15   0.0        0.0    1015.1    0.0       7.3  IDRSING3  \n",
       "16   0.0        0.0    1015.1    0.0       7.0  IDRSING3  \n",
       "17   0.0        0.0    1015.1    0.0       6.9  IDRSING3  \n",
       "18   0.0        0.0    1015.1    0.0       7.0  IDRSING3  \n",
       "19   0.3        1.8    1015.1    0.0       6.7  IDRSING3  \n",
       "20   0.0        0.0    1015.1    0.0       6.4  IDRSING3  \n",
       "21   0.0        0.0    1015.1    0.0       6.5  IDRSING3  \n",
       "22   0.0        0.0    1015.1    0.0       6.8  IDRSING3  \n",
       "23   0.0        0.0    1015.1    0.0       6.9  IDRSING3  \n",
       "24   0.0        0.0    1015.1    0.0       6.8  IDRSING3  "
      ]
     },
     "execution_count": 40,
     "metadata": {},
     "output_type": "execute_result"
    }
   ],
   "source": [
    "df = wd.give_clean_data()\n",
    "df.head(10)"
   ]
  },
  {
   "cell_type": "code",
   "execution_count": 43,
   "metadata": {
    "collapsed": false,
    "deletable": true,
    "editable": true
   },
   "outputs": [
    {
     "data": {
      "image/png": "[encoded data removed]",
      "text/plain": [
       "<matplotlib.figure.Figure at 0x7f8876c99710>"
      ]
     },
     "metadata": {},
     "output_type": "display_data"
    },
    {
     "data": {
      "image/png": "[encoded data removed]",
      "text/plain": [
       "<matplotlib.figure.Figure at 0x7f88768dff10>"
      ]
     },
     "metadata": {},
     "output_type": "display_data"
    },
    {
     "data": {
      "image/png": "[encoded data removed]",
      "text/plain": [
       "<matplotlib.figure.Figure at 0x7f8876b7e210>"
      ]
     },
     "metadata": {},
     "output_type": "display_data"
    }
   ],
   "source": [
    "#time=df.date.apply(lambda x: x.time()).values\n",
    "time=df.date\n",
    "pressure = df.pressure\n",
    "sun = df.solar\n",
    "\n",
    "plt.figure()\n",
    "plt.plot(time, temp, 'ro')\n",
    "# beautify the x-labels\n",
    "plt.gcf().autofmt_xdate()\n",
    "#plt.xlabel(\"Time\")\n",
    "plt.show()\n",
    "\n",
    "plt.figure()\n",
    "plt.plot(time,pressure)\n",
    "plt.show()\n",
    "\n",
    "plt.plot(time,sun)\n",
    "plt.show()"
   ]
  },
  {
   "cell_type": "markdown",
   "metadata": {
    "deletable": true,
    "editable": true
   },
   "source": [
    "### Try to play around with GUI:"
   ]
  },
  {
   "cell_type": "markdown",
   "metadata": {},
   "source": [
    "### Basic Layout:"
   ]
  },
  {
   "cell_type": "code",
   "execution_count": 9,
   "metadata": {
    "collapsed": false,
    "deletable": true,
    "editable": true
   },
   "outputs": [],
   "source": [
    "import Tkinter as tk\n",
    "\n",
    "root = tk.Tk() # Main Window\n",
    "\n",
    "topFrame = tk.Frame(root)\n",
    "topFrame.pack()\n",
    "\n",
    "bottomFrame = tk.Frame(root)\n",
    "bottomFrame.pack(side=tk.BOTTOM)\n",
    "\n",
    "button1 = tk.Button(topFrame, text=\"Button 1\", fg=\"Sienna\")\n",
    "button2 = tk.Button(topFrame, text=\"Button 2\", fg=\"Wheat\")\n",
    "button3 = tk.Button(topFrame, text=\"Button 3\", fg=\"Cyan\")\n",
    "button4 = tk.Button(bottomFrame, text=\"Button 4\", fg=\"Ivory\")\n",
    "#theLabel = tk.Label(root, text =\"Uh lala chica linda\")\n",
    "#theLabel.pack()\n",
    "\n",
    "button1.pack(side=tk.LEFT)\n",
    "button2.pack(side=tk.LEFT)\n",
    "button3.pack(side=tk.LEFT)\n",
    "button4.pack(side=tk.BOTTOM)\n",
    "\n",
    "\n",
    "\n",
    "root.mainloop() # Put this in a loop"
   ]
  },
  {
   "cell_type": "markdown",
   "metadata": {},
   "source": [
    "### Different Fills"
   ]
  },
  {
   "cell_type": "code",
   "execution_count": 12,
   "metadata": {
    "collapsed": false,
    "deletable": true,
    "editable": true
   },
   "outputs": [],
   "source": [
    "root = tk.Tk()\n",
    "\n",
    "one = tk.Label(root, text=\"One\", bg=\"red\", fg=\"white\")\n",
    "one.pack()\n",
    "\n",
    "two = tk.Label(root, text=\"Two\", bg=\"green\", fg=\"black\")\n",
    "two.pack(fill=tk.X)\n",
    "\n",
    "three = tk.Label(root, text=\"Three\", bg=\"blue\", fg=\"white\")\n",
    "three.pack(side=tk.LEFT, fill=tk.Y)\n",
    "\n",
    "root.mainloop()"
   ]
  },
  {
   "cell_type": "markdown",
   "metadata": {},
   "source": [
    "### Tutorial 3: Entry / Checkbox"
   ]
  },
  {
   "cell_type": "code",
   "execution_count": 18,
   "metadata": {
    "collapsed": false
   },
   "outputs": [],
   "source": [
    "import Tkinter as tk\n",
    "root = tk.Tk()\n",
    "\n",
    "label_1 = tk.Label(root, text=\"Name\")\n",
    "label_2 = tk.Label(root, text=\"Password\")\n",
    "\n",
    "entry_1 = tk.Entry(root)\n",
    "entry_2 = tk.Entry(root)\n",
    "\n",
    "label_1.grid(row=0, sticky=tk.E)\n",
    "label_2.grid(row=1, sticky=tk.E)\n",
    "\n",
    "entry_1.grid(row=0, column=1)\n",
    "entry_2.grid(row=1, column=1)\n",
    "\n",
    "c = tk.Checkbutton(root, text=\"Give Harald all your money!\")\n",
    "c.grid(columnspan=2)\n",
    "root.mainloop()"
   ]
  },
  {
   "cell_type": "markdown",
   "metadata": {},
   "source": [
    "### Tutorial 4: Binding a Button."
   ]
  },
  {
   "cell_type": "code",
   "execution_count": 34,
   "metadata": {
    "collapsed": false
   },
   "outputs": [
    {
     "name": "stdout",
     "output_type": "stream",
     "text": [
      "Harald is AWESOME\n",
      "Harald is AWESOME\n",
      "Harald is AWESOME\n",
      "Harald is AWESOME\n",
      "Harald is AWESOME\n",
      "Harald is AWESOME\n",
      "Harald is AWESOME\n",
      "Harald is AWESOME\n",
      "Harald is AWESOME\n",
      "Harald is AWESOME\n",
      "Harald is AWESOME\n"
     ]
    }
   ],
   "source": [
    "import Tkinter as tk\n",
    "\n",
    "root = tk.Tk()\n",
    "\n",
    "def printName(event):\n",
    "    print(\"Harald is AWESOME\")\n",
    "    \n",
    "button_1 = tk.Button(root, text=\"Print my Name\") # or with command=printName\n",
    "button_1.bind(\"<Button-1>\", printName) # This binds the function to a Widget\n",
    "button_1.pack() \n",
    "    \n",
    "root.mainloop()"
   ]
  },
  {
   "cell_type": "markdown",
   "metadata": {},
   "source": [
    "#### Tutorial5: "
   ]
  },
  {
   "cell_type": "code",
   "execution_count": 39,
   "metadata": {
    "collapsed": false
   },
   "outputs": [
    {
     "name": "stdout",
     "output_type": "stream",
     "text": [
      "Left\n",
      "Right\n",
      "Middle\n",
      "Left\n",
      "Left\n",
      "Right\n",
      "Right\n",
      "Middle\n",
      "Left\n",
      "Left\n",
      "Right\n",
      "Right\n",
      "Left\n",
      "Middle\n",
      "Right\n",
      "Left\n",
      "Right\n",
      "Middle\n",
      "Middle\n",
      "Left\n",
      "Left\n",
      "Right\n",
      "Right\n",
      "Left\n",
      "Right\n",
      "Middle\n",
      "Left\n",
      "Right\n",
      "Left\n",
      "Right\n",
      "Left\n",
      "Right\n",
      "Left\n",
      "Right\n",
      "Middle\n",
      "Left\n",
      "Middle\n",
      "Middle\n",
      "Middle\n",
      "Middle\n"
     ]
    }
   ],
   "source": [
    "import Tkinter as tk\n",
    "\n",
    "root = tk.Tk()\n",
    "\n",
    "def leftClick(event):\n",
    "    print(\"Left\")\n",
    "    \n",
    "def rightClick(event):\n",
    "    print(\"Right\")\n",
    "    \n",
    "def middleClick(event):\n",
    "    print(\"Middle\")\n",
    "    \n",
    "    \n",
    "frame = tk.Frame(root, width=300, height=250) # Invisible Frame\n",
    "frame.bind(\"<Button-1>\", leftClick)\n",
    "frame.bind(\"<Button-2>\", middleClick)\n",
    "frame.bind(\"<Button-3>\", rightClick)\n",
    "frame.pack()\n",
    "\n",
    "root.mainloop()"
   ]
  },
  {
   "cell_type": "code",
   "execution_count": null,
   "metadata": {
    "collapsed": true
   },
   "outputs": [],
   "source": []
  }
 ],
 "metadata": {
  "kernelspec": {
   "display_name": "Python 2",
   "language": "python",
   "name": "python2"
  },
  "language_info": {
   "codemirror_mode": {
    "name": "ipython",
    "version": 2
   },
   "file_extension": ".py",
   "mimetype": "text/x-python",
   "name": "python",
   "nbconvert_exporter": "python",
   "pygments_lexer": "ipython2",
   "version": "2.7.12"
  }
 },
 "nbformat": 4,
 "nbformat_minor": 2
}
